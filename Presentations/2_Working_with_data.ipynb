{
 "cells": [
  {
   "cell_type": "markdown",
   "metadata": {},
   "source": [
    "# Working with data\n",
    "\n",
    "In this section we will start learning about our coding environment Google Colab and basics of programming with Python.\n",
    "\n",
    "## Contents\n",
    "\n",
    "#### [Libraries](#libraries)\n",
    "\n",
    "#### [Basics of Python](#Basics)"
   ]
  },
  {
   "cell_type": "markdown",
   "metadata": {},
   "source": [
    "---\n",
    "## Tutorial objectives\n",
    "- Understand what a library is, why we might want to use it and how to use it\n",
    "    - Importing libraries\n",
    "    - Checking relevant functions within libraries\n",
    "    \n",
    "\n",
    "- How can we process tabular data?\n",
    "    - Processing tabular data using arrays\n",
    "    - Doing the same operation\n",
    "    - "
   ]
  },
  {
   "cell_type": "code",
   "execution_count": null,
   "metadata": {},
   "outputs": [],
   "source": []
  }
 ],
 "metadata": {
  "kernelspec": {
   "display_name": "Python 3",
   "language": "python",
   "name": "python3"
  },
  "language_info": {
   "codemirror_mode": {
    "name": "ipython",
    "version": 3
   },
   "file_extension": ".py",
   "mimetype": "text/x-python",
   "name": "python",
   "nbconvert_exporter": "python",
   "pygments_lexer": "ipython3",
   "version": "3.7.3"
  }
 },
 "nbformat": 4,
 "nbformat_minor": 2
}
