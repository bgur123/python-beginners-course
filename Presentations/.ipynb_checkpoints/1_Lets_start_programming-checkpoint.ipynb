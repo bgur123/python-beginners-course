{
 "cells": [
  {
   "cell_type": "markdown",
   "metadata": {
    "id": "UepC4nH5mvjj"
   },
   "source": [
    "# Let's start programming\n",
    "\n",
    "In this section we will start learning about our coding environment Google Colab and basics of programming with Python.\n",
    "\n",
    "## Contents\n",
    "\n",
    "#### [Working with Jupyter Notebooks and Google Colab](#Colab)\n",
    "\n",
    "#### [Basics of Python](#Basics)\n"
   ]
  },
  {
   "cell_type": "markdown",
   "metadata": {
    "id": "T_iQjBBimvjl"
   },
   "source": [
    "<a name=\"Colab\"></a>\n",
    "# Working with Jupyter Notebooks and Google Colab\n",
    "\n",
    "This is a Jupyter Notebook, which is a basically just a super fancy Python shell.\n",
    "  - We can write formatted **text together with executable code**.\n",
    "  - Allows **rapid development** of Python code by writing small bits and testing them.\n",
    "  - We can **easily share** our code with others and they can run it without problems.\n",
    "\n",
    "Colab allows us to take a Jupyter Notebook (a file with .ipynb extension) and lets us edit/run the code in the notebook for free! \n",
    "  - Has many **pre-installed packages**.\n",
    "  - Runs on the **Google Cloud** - doesn't depend so much on your computer capabilities.\n",
    "  - Even **GPU usage** is provided free of charge for some hours of usage every day. This lets us run heavy code much faster. Not relevant here but you might need in the future.\n",
    "\n",
    " \n",
    "\n"
   ]
  },
  {
   "cell_type": "markdown",
   "metadata": {
    "id": "YybfaVyJm_K1"
   },
   "source": [
    "For example, to run a code, just hover the mouse over ```[ ]``` and press the play button to the upper left. Or press **shift-enter to execute**.\n",
    "\n",
    "- Below we have a code, just run it without trying to understand."
   ]
  },
  {
   "cell_type": "code",
   "execution_count": 1,
   "metadata": {
    "id": "euJ73YDJnCvW"
   },
   "outputs": [
    {
     "name": "stdout",
     "output_type": "stream",
     "text": [
      "Hello World\n"
     ]
    }
   ],
   "source": [
    "print ('Hello World')"
   ]
  },
  {
   "cell_type": "markdown",
   "metadata": {
    "id": "IgVNFoJtnEt5"
   },
   "source": [
    "Great! Let's move on to working with Python."
   ]
  },
  {
   "cell_type": "markdown",
   "metadata": {
    "id": "hVWtWsJgmvj3"
   },
   "source": [
    "<a name=\"Basics\"></a>\n",
    "# Basics of Python\n",
    "\n",
    "### Overview:\n",
    "#### - [Python as a calculator](#calculator)\n",
    "#### - [Variables](#var)\n",
    "#### - [Errors](#err) \n",
    "#### - [Data types](#datype)\n",
    "- For single data points\n",
    "    - [**integers**](#int) - for numbers without decimals\n",
    "    - [**floats**](#float) - for numbers with decimals\n",
    "    - [**strings**](#str) - for characters, words etc.\n",
    "    - [**booleans**](#bool) - for binary (True or False, 1 or 0)\n",
    "- For multiple data points\n",
    "    - [**lists**](#list) - for storing multiple data points\n",
    "    - [**tuples**](#tup) - for storing pairs of data\n",
    "    - [**dictionaries**](#dict) - for storing key-value pairs\n",
    "    \n",
    "#### - [Type conversions](#type_conv)\n",
    "#### - [Indexing](#indexing) \n",
    "#### - [Loops](#loops) \n",
    "#### - [Conditionals](#conditionals)\n"
   ]
  },
  {
   "cell_type": "markdown",
   "metadata": {
    "id": "5hpGUfNHmvj6"
   },
   "source": [
    "<a name=\"calculator\"></a>\n",
    "## Python as a calculator\n",
    "Python can be used as a calculator. And basic mathematical operations can be easily done using **python operators** (pre defined symbols for doing operations between values or variables). \n",
    "\n",
    "| Operator | Name    |\n",
    "|------|------|\n",
    "|```+```  | Addition|\n",
    "|```-```  | Subtraction|\n",
    "|```*```  | Multiplication|\n",
    "|```/```  | Division|\n",
    "|```**```  | Exponentiation|\n",
    "|```%```  | Modulus|\n"
   ]
  },
  {
   "cell_type": "code",
   "execution_count": 2,
   "metadata": {
    "id": "Mpz8g_Epmvj7",
    "outputId": "cd2fa13c-3788-498c-88c1-0f055a6c460b"
   },
   "outputs": [
    {
     "data": {
      "text/plain": [
       "6"
      ]
     },
     "execution_count": 2,
     "metadata": {},
     "output_type": "execute_result"
    }
   ],
   "source": [
    "# Examples for some operators\n",
    "1+5"
   ]
  },
  {
   "cell_type": "code",
   "execution_count": 3,
   "metadata": {
    "id": "wGxpNEnxmvkC",
    "outputId": "a5859f9d-0156-4d7a-d740-0c48dcecd471"
   },
   "outputs": [
    {
     "data": {
      "text/plain": [
       "6"
      ]
     },
     "execution_count": 3,
     "metadata": {},
     "output_type": "execute_result"
    }
   ],
   "source": [
    "2*3"
   ]
  },
  {
   "cell_type": "code",
   "execution_count": 4,
   "metadata": {
    "id": "imE1JikBmvkJ",
    "outputId": "8fe24d0a-1727-4c69-aadb-c9751b8d2aac"
   },
   "outputs": [
    {
     "data": {
      "text/plain": [
       "8"
      ]
     },
     "execution_count": 4,
     "metadata": {},
     "output_type": "execute_result"
    }
   ],
   "source": [
    "2**3"
   ]
  },
  {
   "cell_type": "code",
   "execution_count": 5,
   "metadata": {
    "id": "3ZwWfEqRmvkQ",
    "outputId": "eb8d64a1-3b80-4de5-9b90-4c7eb73f6c9c"
   },
   "outputs": [
    {
     "data": {
      "text/plain": [
       "4"
      ]
     },
     "execution_count": 5,
     "metadata": {},
     "output_type": "execute_result"
    }
   ],
   "source": [
    "100%24"
   ]
  },
  {
   "cell_type": "markdown",
   "metadata": {
    "id": "-UHXB6RXmvkW"
   },
   "source": [
    "The **order** of operations is important\n",
    "Use parantheses to define order of operations```()```"
   ]
  },
  {
   "cell_type": "code",
   "execution_count": 6,
   "metadata": {
    "id": "-6T__qfzmvkX",
    "outputId": "048eea39-8c70-430e-a98d-e473ff98379d"
   },
   "outputs": [
    {
     "data": {
      "text/plain": [
       "4.25"
      ]
     },
     "execution_count": 6,
     "metadata": {},
     "output_type": "execute_result"
    }
   ],
   "source": [
    "# Add 3 to 5 and divide by 4 -> result is 2\n",
    "3+5/4"
   ]
  },
  {
   "cell_type": "code",
   "execution_count": 7,
   "metadata": {
    "id": "rwfpOBEjmvke",
    "outputId": "b1f175bc-88f1-4221-9d5f-c0298a5a9c81"
   },
   "outputs": [
    {
     "data": {
      "text/plain": [
       "2.0"
      ]
     },
     "execution_count": 7,
     "metadata": {},
     "output_type": "execute_result"
    }
   ],
   "source": [
    "(3+5)/4"
   ]
  },
  {
   "cell_type": "markdown",
   "metadata": {
    "id": "IYlx2-ijmvkk"
   },
   "source": [
    "How can we store the result of our calculation in python? Through **variables**"
   ]
  },
  {
   "cell_type": "markdown",
   "metadata": {
    "id": "omzbU-4amvkk"
   },
   "source": [
    "<a name=\"var\"></a>\n",
    "## Variables\n",
    "\n",
    "Variables are used to store data of any sort. You can think of them as a sticky note:\n",
    "\n",
    "Variables are created with an assignment statement. The syntax (kind of grammar) of variable assignment is:\n",
    "\n",
    "```variable_name = a value``` (or an expression e.g., ```1+1```)\n"
   ]
  },
  {
   "cell_type": "code",
   "execution_count": 8,
   "metadata": {
    "id": "pAa5_9YQmvkl"
   },
   "outputs": [],
   "source": [
    "weight_kg = 65.0 # weight_kg is the variable name, 65.0 is its value"
   ]
  },
  {
   "cell_type": "markdown",
   "metadata": {
    "id": "EmhSSvbHmvkq"
   },
   "source": [
    "We just *defined* a variable by assigning a value. Now we can use it.\n",
    "\n",
    "You can think of a variable as a sticky note:\n",
    "\n",
    "<img src=\"https://github.com/bgur123/python-beginners-course/blob/master/Content/Media/python-sticky-note-variables.svg?raw=1\" width =\"200px\">"
   ]
  },
  {
   "cell_type": "code",
   "execution_count": 9,
   "metadata": {
    "id": "MGvXQ3jYmvkr",
    "outputId": "dbfc5c6e-9f6f-4491-c6b2-6f5fc494350a"
   },
   "outputs": [
    {
     "data": {
      "text/plain": [
       "10.0"
      ]
     },
     "execution_count": 9,
     "metadata": {},
     "output_type": "execute_result"
    }
   ],
   "source": [
    "# There are 2.2 pounds per kilogram\n",
    "weight_lb = 2.2 * weight_kg"
   ]
  },
  {
   "cell_type": "markdown",
   "metadata": {
    "id": "vKtBd1_-mvk0"
   },
   "source": [
    "### Naming variables\n",
    "Python variable names:\n",
    "- can contain letters, numbers and underscores\n",
    "- can NOT start with a number\n",
    "- are case sensitive (example_Variable vs example_variable)\n",
    "\n",
    "Variable names should be **descriptive** (but not too long, otherwise your code will look very complicated) \n",
    "- number_of_all_cells -> cell_num\n"
   ]
  },
  {
   "cell_type": "markdown",
   "metadata": {
    "id": "CSykGqfbmvk1"
   },
   "source": [
    "<a name=\"err\"></a>\n",
    "## Errors\n",
    "\n",
    "We are all human. Sometimes we might write incorrect code and python might inform this to us by producing an error. These errors also contain messages that explain what went wrong while python was executing your code.\n"
   ]
  },
  {
   "cell_type": "code",
   "execution_count": 11,
   "metadata": {
    "id": "oqw25mWzmvk2",
    "outputId": "10fb995c-d77b-4d7d-ff05-d00cde5c0109"
   },
   "outputs": [
    {
     "ename": "NameError",
     "evalue": "name 'y' is not defined",
     "output_type": "error",
     "traceback": [
      "\u001b[0;31m-------------------------------------------------------------------\u001b[0m",
      "\u001b[0;31mNameError\u001b[0m                         Traceback (most recent call last)",
      "\u001b[0;32m<ipython-input-11-f57a92f8cef0>\u001b[0m in \u001b[0;36m<module>\u001b[0;34m\u001b[0m\n\u001b[0;32m----> 1\u001b[0;31m \u001b[0mprint\u001b[0m\u001b[0;34m(\u001b[0m\u001b[0my\u001b[0m\u001b[0;34m)\u001b[0m\u001b[0;34m\u001b[0m\u001b[0;34m\u001b[0m\u001b[0m\n\u001b[0m\u001b[1;32m      2\u001b[0m \u001b[0my\u001b[0m \u001b[0;34m=\u001b[0m \u001b[0;36m10\u001b[0m\u001b[0;34m\u001b[0m\u001b[0;34m\u001b[0m\u001b[0m\n",
      "\u001b[0;31mNameError\u001b[0m: name 'y' is not defined"
     ]
    }
   ],
   "source": [
    "print(y)\n",
    "y = 10"
   ]
  },
  {
   "cell_type": "markdown",
   "metadata": {
    "id": "EQssVClomvk8"
   },
   "source": [
    "\n",
    "These messages are composed in a logical way, :\n",
    "1. What is the **type of error** (<font color=red>NameError</font>)\n",
    "2. **Where (which file)** the error occured (in our case this is not useful)\n",
    "4. **Which line** has the error producing code\n",
    "4. **Why** there was an error\n",
    "\n",
    "<a name=\"errorex\"></a>\n",
    "#### Practice: \n",
    "Investigate our previous error message and find the corresponding error components. Fill the cell below with your answers.\n",
    "\n"
   ]
  },
  {
   "cell_type": "markdown",
   "metadata": {
    "id": "0VhSfX6pmvk8"
   },
   "source": [
    "##### FILL BELOW\n",
    "\n",
    "Error type:\n",
    "\n",
    "File: (Just skip this since we have only this file.)\n",
    "\n",
    "Line:\n",
    "\n",
    "Reason:"
   ]
  },
  {
   "cell_type": "markdown",
   "metadata": {
    "id": "cNs9q-kzmvk9"
   },
   "source": [
    "<a name=\"datype\"></a>\n",
    "## Data types\n",
    "\n",
    "Data are of different types.\n",
    "\n",
    "For example: Data that contain names would consist of characters and data that contain ages would consist of numbers. \n",
    "\n",
    "Python's most common data types are:\n",
    "\n",
    "#### For numbers:\n",
    "- [integers](#int) (for storing integers - whole numbers - e.g. 2)\n",
    "\n",
    "\n",
    "- [floats](#float) (for storing numbers with fractions e.g. 1.0025)\n",
    "\n",
    "#### For characters (text):\n",
    "- [strings](#str) \n",
    "\n",
    "#### For logicals (1, 0 - True, False):\n",
    "- [booleans](#bool) (binary data: True or False) \n",
    "\n",
    "#### For multiple data points:\n",
    "- [lists](#list) (for storing an arbitrary dimension of data points e.g. a time trace)\n",
    "\n",
    "\n",
    "- [tuples](#tup) (storing data pairs of same type e.g. XY coordinates)\n",
    "\n",
    "\n",
    "- [dictionaries](#dict) (for storing parameters (key:value) e.g. \"age\":27)\n"
   ]
  },
  {
   "cell_type": "markdown",
   "metadata": {
    "id": "3KTHnvqfmvk9"
   },
   "source": [
    "<a name=\"int\"></a>\n",
    "### Integers\n"
   ]
  },
  {
   "cell_type": "code",
   "execution_count": 12,
   "metadata": {
    "id": "-7LmZYJTmvk_",
    "outputId": "5ebdffae-ecf0-4e77-b8a4-3b824f0a2730"
   },
   "outputs": [
    {
     "name": "stdout",
     "output_type": "stream",
     "text": [
      "I am 28 years old\n",
      "I was born on 1992\n"
     ]
    }
   ],
   "source": [
    "# Below are some examples of integers\n",
    "my_age = 28\n",
    "my_birthyear = 1992\n",
    "\n",
    "print(\"I am {age} years old\".format(age=my_age))\n",
    "print(\"I was born on {year}\".format(year=my_birthyear))"
   ]
  },
  {
   "cell_type": "markdown",
   "metadata": {
    "id": "JhQl609rmvlE"
   },
   "source": [
    "We can check the type of variables by using ```type()``` function"
   ]
  },
  {
   "cell_type": "code",
   "execution_count": 13,
   "metadata": {
    "id": "AUGoRN2emvlF",
    "outputId": "6bc8fffa-9d56-4010-b4d1-d5fe678b6e60"
   },
   "outputs": [
    {
     "name": "stdout",
     "output_type": "stream",
     "text": [
      "<class 'int'>\n"
     ]
    }
   ],
   "source": [
    "# Usage of type() function\n",
    "type(my_age)\n",
    "\n",
    "# Print the type\n",
    "print(type(my_age))\n",
    "\n",
    "# It will print out: <class 'int'> meaning that \n",
    "# the type (you call data types \"class\") is integer"
   ]
  },
  {
   "cell_type": "code",
   "execution_count": 14,
   "metadata": {
    "id": "fk7yiHfnmvlJ",
    "outputId": "931f880b-f2bf-4440-e921-8f711a4a0676"
   },
   "outputs": [
    {
     "name": "stdout",
     "output_type": "stream",
     "text": [
      "x is 3, y is 4, z is 12.\n",
      "x is <class 'int'>, y is <class 'int'>, z is <class 'int'> \n"
     ]
    }
   ],
   "source": [
    "# As you remember we can do calculations with Python like a calculator\n",
    "x = 3\n",
    "y = 4\n",
    "z = x*y\n",
    "\n",
    "\n",
    "print(\"x is {xVal}, y is {yVal}, z is {zVal}.\".format(xVal=x, yVal=y, zVal=z))\n",
    "print(\"x is {xType}, y is {yType}, z is {zType} \".format(xType=type(x), \n",
    "                                                         yType=type(y), \n",
    "                                                         zType=type(z)))"
   ]
  },
  {
   "cell_type": "markdown",
   "metadata": {
    "id": "QQ5Hhh-dmvlP"
   },
   "source": [
    "Now we have defined several varibles in the previous cells. These are stored in our **workspace**\n",
    "\n",
    "write ```whos``` to check which variables we have in our current workspace."
   ]
  },
  {
   "cell_type": "code",
   "execution_count": 15,
   "metadata": {
    "id": "RHF-SO5XmvlQ",
    "outputId": "e1f32959-16ae-4dab-aab6-69eeade56241"
   },
   "outputs": [
    {
     "name": "stdout",
     "output_type": "stream",
     "text": [
      "Variable       Type    Data/Info\n",
      "--------------------------------\n",
      "my_age         int     28\n",
      "my_birthyear   int     1992\n",
      "x              int     3\n",
      "y              int     4\n",
      "z              int     12\n"
     ]
    }
   ],
   "source": [
    "whos"
   ]
  },
  {
   "cell_type": "markdown",
   "metadata": {
    "id": "nkIG6WQKmvlV"
   },
   "source": [
    "We can erase them using ```%reset```"
   ]
  },
  {
   "cell_type": "code",
   "execution_count": 16,
   "metadata": {
    "id": "iFJ51Z4vmvlW",
    "outputId": "14c2298a-0aeb-492a-e263-2bdaf1534a8b"
   },
   "outputs": [
    {
     "name": "stdout",
     "output_type": "stream",
     "text": [
      "Once deleted, variables cannot be recovered. Proceed (y/[n])? \n",
      "Nothing done.\n"
     ]
    }
   ],
   "source": [
    "%reset"
   ]
  },
  {
   "cell_type": "code",
   "execution_count": 17,
   "metadata": {
    "id": "zxl9L3oSmvlZ",
    "outputId": "50247ac5-19cd-4365-d1cb-7d0e775b444c"
   },
   "outputs": [
    {
     "name": "stdout",
     "output_type": "stream",
     "text": [
      "Variable       Type    Data/Info\n",
      "--------------------------------\n",
      "my_age         int     28\n",
      "my_birthyear   int     1992\n",
      "x              int     3\n",
      "y              int     4\n",
      "z              int     12\n"
     ]
    }
   ],
   "source": [
    "whos"
   ]
  },
  {
   "cell_type": "markdown",
   "metadata": {
    "id": "kV0vFYn9mvle"
   },
   "source": [
    "#### Practice : <a name=\"errorex\"></a>\n",
    "1. Generate two integer type variables of your choice\n",
    "2. Do a calculation that yields a fractional value (e.g. 5/2 = 2.5)\n",
    "3. What is the type of our result variable (z, in this case)\n"
   ]
  },
  {
   "cell_type": "code",
   "execution_count": 18,
   "metadata": {
    "id": "cuI0fOiEmvlg",
    "outputId": "cbb5107d-9653-408d-bdd1-4d28b8772e0f"
   },
   "outputs": [
    {
     "name": "stdout",
     "output_type": "stream",
     "text": [
      "x is 5, y is 2, z is 2.5 \n",
      "x is <class 'int'>, y is <class 'int'>, z is <class 'float'> \n"
     ]
    }
   ],
   "source": [
    "# Below goes your code\n",
    "x = 5\n",
    "y = 2\n",
    "z= x/y\n",
    "# Your code ends\n",
    "\n",
    "\n",
    "print(\"x is {xVal}, y is {yVal}, z is {zVal} \".format(xVal=x, yVal=y, zVal=z))\n",
    "print(\"x is {xType}, y is {yType}, z is {zType} \".format(xType=type(x), \n",
    "                                                         yType=type(y), \n",
    "                                                         zType=type(z)))"
   ]
  },
  {
   "cell_type": "markdown",
   "metadata": {
    "id": "QrTbeVq-mvll"
   },
   "source": [
    "<a name=\"float\"></a>\n",
    "### Floats\n",
    "**Floating point number** (Float) is a way of representing a non-integer real number with a computer.\n"
   ]
  },
  {
   "cell_type": "code",
   "execution_count": 19,
   "metadata": {
    "id": "dMWK7nTimvll",
    "outputId": "d623c409-8fff-40de-c891-6fb33b1957fe"
   },
   "outputs": [
    {
     "name": "stdout",
     "output_type": "stream",
     "text": [
      "BMI is: 22.392326025139397\n",
      "<class 'float'>\n"
     ]
    }
   ],
   "source": [
    "# Calculating Body Mass Index (BMI)\n",
    "my_weight = 75.4\n",
    "my_height = 183.5 # Height in cm\n",
    "my_height_meters = my_height / 100 # Calculate height in meters\n",
    "\n",
    "my_BMI = (my_weight/((my_height_meters)**2)) \n",
    "\n",
    "print(\"BMI is: {bmi}\".format(bmi=my_BMI))\n",
    "print(type(my_BMI))"
   ]
  },
  {
   "cell_type": "markdown",
   "metadata": {
    "id": "CpmMXtvdmvlp"
   },
   "source": [
    "<a name=\"str\"></a>\n",
    "### Strings\n",
    "\n",
    "What if we want to store characters instead of numbers? Usually we want to store a set of characters instead of storing each character 1 by 1 (like instead of storing - n, a, m, e - we want to store them together as -name-). This is called a string of characters. That's why the type is also called **string**."
   ]
  },
  {
   "cell_type": "code",
   "execution_count": 20,
   "metadata": {
    "id": "lJK9sAoTmvlq"
   },
   "outputs": [],
   "source": [
    "# Some string examples\n",
    "my_name = \"Burak\"\n",
    "my_country = \"Turkey\""
   ]
  },
  {
   "cell_type": "code",
   "execution_count": 21,
   "metadata": {
    "id": "d8Kfy4Bomvlv"
   },
   "outputs": [],
   "source": [
    "# Check the type of the variable \"my_name\" below\n",
    "\n",
    "# Your code below\n",
    "\n",
    "# Your code ends"
   ]
  },
  {
   "cell_type": "markdown",
   "metadata": {
    "id": "yJX3i2Gimvly"
   },
   "source": [
    "- We should use **double quoutes ```\" __ \"``` or single quotes ```' __ '```** when limiting a string.\n",
    "- We can use the escape ```\\\\``` character to continue our string in the next line.\n",
    "- Or, we can use **triple quoutes ```''' __ '''```** if we would like to use multiline strings"
   ]
  },
  {
   "cell_type": "code",
   "execution_count": 22,
   "metadata": {
    "id": "6vAzif70mvlz",
    "outputId": "1dbd25ba-d930-4409-c3b1-c9d827d0d469"
   },
   "outputs": [
    {
     "name": "stdout",
     "output_type": "stream",
     "text": [
      "ABC\n",
      "Our text is getting too long so I can continue on the next line of code\n"
     ]
    }
   ],
   "source": [
    "# Defining a single line string\n",
    "singleLineString = 'ABC' # or \"ABC\" also works fine\n",
    "\n",
    "# Defining a multi line string\n",
    "multiline_string_1 = 'Our text is getting too long \\\n",
    "so I can continue on the next line of code' \n",
    "\n",
    "print(singleLineString)\n",
    "print(multiline_string_1)"
   ]
  },
  {
   "cell_type": "code",
   "execution_count": 23,
   "metadata": {
    "id": "Dr9G_Tcumvl3",
    "outputId": "4e02b667-0ca8-4ec1-a42d-4e5ee57f7f68"
   },
   "outputs": [
    {
     "name": "stdout",
     "output_type": "stream",
     "text": [
      "This\n",
      "is \n",
      "a\n",
      "multiline\n",
      "string\n",
      "\n"
     ]
    }
   ],
   "source": [
    "# A multiline string\n",
    "multiline_string_2 = '''This\n",
    "is \n",
    "a\n",
    "multiline\n",
    "string\n",
    "'''\n",
    "print(multiline_string_2)"
   ]
  },
  {
   "cell_type": "markdown",
   "metadata": {
    "id": "kMY4A4FRmvl6"
   },
   "source": [
    "#### Adding blank space (a.k.a. whitespace)\n",
    "- Use ```\\n``` to add a new line (like pressing enter)\n",
    "- Use ```\\t``` for adding a tab\n",
    "\n"
   ]
  },
  {
   "cell_type": "code",
   "execution_count": 24,
   "metadata": {
    "id": "YWYYVqcfmvl6",
    "outputId": "6f0b06bc-fa9e-4548-f510-54f92ddd5573"
   },
   "outputs": [
    {
     "name": "stdout",
     "output_type": "stream",
     "text": [
      "Hello \n",
      " world\n"
     ]
    }
   ],
   "source": [
    "# New line example\n",
    "two_line_string = 'Hello \\n world'\n",
    "print(two_line_string)\n"
   ]
  },
  {
   "cell_type": "code",
   "execution_count": 25,
   "metadata": {
    "id": "Op0dMF34mvl9",
    "outputId": "767d27d9-016c-4ec6-d6b0-448749234f53"
   },
   "outputs": [
    {
     "name": "stdout",
     "output_type": "stream",
     "text": [
      "\tHello  world\n"
     ]
    }
   ],
   "source": [
    "# Tab example\n",
    "two_line_string = '\\tHello  world'\n",
    "print(two_line_string)"
   ]
  },
  {
   "cell_type": "markdown",
   "metadata": {
    "id": "DxVKoiObmvmC"
   },
   "source": [
    "#### Concatenating (combining) \n",
    "Sometimes we want to combine strings. There are many ways of doing it. \n",
    "\n",
    "A fast and easy-to-read way is using the plus **```+```** operator."
   ]
  },
  {
   "cell_type": "code",
   "execution_count": 26,
   "metadata": {
    "id": "M6JPETLYmvmC",
    "outputId": "0bfe93e4-5c59-43f0-9980-118f0ea2cc9b"
   },
   "outputs": [
    {
     "name": "stdout",
     "output_type": "stream",
     "text": [
      "BurakGur\n",
      "Burak Gur\n"
     ]
    }
   ],
   "source": [
    "my_name = \"Burak\"\n",
    "my_surname = \"Gur\"\n",
    "\n",
    "\n",
    "my_fullname = my_name + my_surname # Just joining them together\n",
    "my_fullname_nice = my_name + ' ' + my_surname # Joining with a space\n",
    "\n",
    "\n",
    "print(my_fullname)\n",
    "print(my_fullname_nice)"
   ]
  },
  {
   "cell_type": "markdown",
   "metadata": {
    "id": "7-YTtGQlmvmG"
   },
   "source": [
    "#### Practice: Printing age as text\n",
    "hint: [Use the error practice](#errorex)  we did before to really understand why the error is produced. Then solve it using the concept of [type conversions](#type_conv)."
   ]
  },
  {
   "cell_type": "code",
   "execution_count": 27,
   "metadata": {
    "id": "anTo7yX6mvmH",
    "outputId": "3558b56a-b00f-42e6-9153-e56e093cb346"
   },
   "outputs": [
    {
     "ename": "TypeError",
     "evalue": "can only concatenate str (not \"int\") to str",
     "output_type": "error",
     "traceback": [
      "\u001b[0;31m-------------------------------------------------------------------\u001b[0m",
      "\u001b[0;31mTypeError\u001b[0m                         Traceback (most recent call last)",
      "\u001b[0;32m<ipython-input-27-0993d85a4ba0>\u001b[0m in \u001b[0;36m<module>\u001b[0;34m\u001b[0m\n\u001b[1;32m      4\u001b[0m \u001b[0;34m\u001b[0m\u001b[0m\n\u001b[1;32m      5\u001b[0m \u001b[0;34m\u001b[0m\u001b[0m\n\u001b[0;32m----> 6\u001b[0;31m \u001b[0mmy_info\u001b[0m \u001b[0;34m=\u001b[0m \u001b[0mmy_name\u001b[0m \u001b[0;34m+\u001b[0m \u001b[0;34m' '\u001b[0m \u001b[0;34m+\u001b[0m \u001b[0mmy_surname\u001b[0m \u001b[0;34m+\u001b[0m \u001b[0;34m' age: '\u001b[0m \u001b[0;34m+\u001b[0m \u001b[0mmy_age\u001b[0m\u001b[0;34m\u001b[0m\u001b[0;34m\u001b[0m\u001b[0m\n\u001b[0m\u001b[1;32m      7\u001b[0m \u001b[0;34m\u001b[0m\u001b[0m\n\u001b[1;32m      8\u001b[0m \u001b[0;34m\u001b[0m\u001b[0m\n",
      "\u001b[0;31mTypeError\u001b[0m: can only concatenate str (not \"int\") to str"
     ]
    }
   ],
   "source": [
    "my_name = \"Burak\"\n",
    "my_surname = \"Gur\"\n",
    "my_age = 28\n",
    "\n",
    "\n",
    "my_info = my_name + ' ' + my_surname + ' age: ' + my_age \n",
    "\n",
    "\n",
    "print(my_info)"
   ]
  },
  {
   "cell_type": "code",
   "execution_count": 28,
   "metadata": {
    "id": "ue7xAjrBmvmK",
    "outputId": "c9e654ca-f220-4340-e3e9-16c70265d5ed"
   },
   "outputs": [
    {
     "name": "stdout",
     "output_type": "stream",
     "text": [
      "Burak Gur age: 28\n"
     ]
    }
   ],
   "source": [
    "# Your code goes below\n",
    "my_name = \"Burak\"\n",
    "my_surname = \"Gur\"\n",
    "my_age = 28\n",
    "\n",
    "\n",
    "my_info = my_name + ' ' + my_surname + ' age: ' + str(my_age) \n",
    "\n",
    "\n",
    "print(my_info)\n",
    "# Your code ends here"
   ]
  },
  {
   "cell_type": "markdown",
   "metadata": {
    "id": "jmP4JLNBmvmN"
   },
   "source": [
    "**The output should be:**\n",
    "\n",
    "Burak Gur age: 28"
   ]
  },
  {
   "cell_type": "markdown",
   "metadata": {
    "id": "FWbDIxwXmvmO"
   },
   "source": [
    "#### String formatting\n",
    "An easier way of concatenating is with the ```format()``` function.\n"
   ]
  },
  {
   "cell_type": "code",
   "execution_count": 29,
   "metadata": {
    "id": "vrY2cND5mvmP",
    "outputId": "f3c0eec5-2ca7-45b7-a73b-5ed1971b6675"
   },
   "outputs": [
    {
     "name": "stdout",
     "output_type": "stream",
     "text": [
      "Name is: Burak, surname is: Gur, age is: 28\n"
     ]
    }
   ],
   "source": [
    "my_name = \"Burak\"\n",
    "my_surname = \"Gur\"\n",
    "my_age = 28\n",
    "\n",
    "\n",
    "my_info = \"Name is: {name}, surname is: {surname}, age is: {age}\".format(name=my_name,\n",
    "                                                                        surname=my_surname,\n",
    "                                                                        age=my_age)\n",
    "print(my_info)"
   ]
  },
  {
   "cell_type": "markdown",
   "metadata": {
    "id": "9WrB8yUJmvmS"
   },
   "source": [
    "<a name=\"bool\"></a>\n",
    "### Booleans\n",
    "\n",
    "Booleans are data that can vary between only two values (binary) e.g. **0-1** or **True-False**"
   ]
  },
  {
   "cell_type": "code",
   "execution_count": 30,
   "metadata": {
    "id": "_jWFbmiWmvmT"
   },
   "outputs": [],
   "source": [
    "# Example of boolean\n",
    "name = \"Burak\"\n",
    "surname = \"Gur\"\n",
    "age = 28\n",
    "is_student = True\n",
    "is_female = False"
   ]
  },
  {
   "cell_type": "markdown",
   "metadata": {
    "id": "vXxEISxMmvmW"
   },
   "source": [
    "<a name=\"list\"></a>\n",
    "### Lists\n",
    "Lists are used to store multiple data points. While defining a list, surround the list with brackets ```[]``` and separate each element with a comma ```,```. We can also modify the contents of a list."
   ]
  },
  {
   "cell_type": "code",
   "execution_count": 3,
   "metadata": {
    "id": "CMcqVz9dmvmW"
   },
   "outputs": [],
   "source": [
    "ages = [18, 23, 25, 24, 20, 33, 35]"
   ]
  },
  {
   "cell_type": "markdown",
   "metadata": {
    "id": "DMZB48JMmvmZ"
   },
   "source": [
    "Curious of how many elements your list has? You can use the ```len()``` function."
   ]
  },
  {
   "cell_type": "code",
   "execution_count": 4,
   "metadata": {
    "id": "wA7iH5jHmvma",
    "outputId": "eb111df7-7200-468f-939c-270210ef343d"
   },
   "outputs": [
    {
     "name": "stdout",
     "output_type": "stream",
     "text": [
      "My list has 7 elements\n"
     ]
    }
   ],
   "source": [
    "list_length = len(ages)\n",
    "\n",
    "print(\"My list has {elem_n} elements\".format(elem_n = list_length))"
   ]
  },
  {
   "cell_type": "markdown",
   "metadata": {
    "id": "cHIotyLZmvmd"
   },
   "source": [
    "We can access the elements of lists using [indexing](#indexing)."
   ]
  },
  {
   "cell_type": "markdown",
   "metadata": {
    "id": "wNbVKWrbmvme"
   },
   "source": [
    "<a name=\"tup\"></a>\n",
    "### Tuples\n",
    "Tuples lets us \"chunk\" together related information. They are quite similar to lists but one difference is that once created, their elements can not be modified."
   ]
  },
  {
   "cell_type": "code",
   "execution_count": 33,
   "metadata": {
    "id": "-HCq1xuwmvmf",
    "outputId": "37a24b64-266e-47b5-fab7-2c63b52cdafc"
   },
   "outputs": [
    {
     "name": "stdout",
     "output_type": "stream",
     "text": [
      "('Burak', 'Gur', 27, 'Student', 'Turkey')\n"
     ]
    }
   ],
   "source": [
    "# Let's generate a tuple for storing personal information\n",
    "\n",
    "tuple_database = (\"Burak\", \"Gur\", 27, \"Student\", \"Turkey\")\n",
    "\n",
    "print(tuple_database)"
   ]
  },
  {
   "cell_type": "code",
   "execution_count": 34,
   "metadata": {
    "id": "HtswgV_ymvmi"
   },
   "outputs": [],
   "source": [
    "# Since with this data type we're not really sure of what is the information"
   ]
  },
  {
   "cell_type": "markdown",
   "metadata": {
    "id": "y3bxUpTMmvml"
   },
   "source": [
    "<a name=\"dict\"></a>\n",
    "### Dictionaries\n",
    "Dictionaries store data as **key : value** pairs where keys are the indices of values."
   ]
  },
  {
   "cell_type": "code",
   "execution_count": 35,
   "metadata": {
    "colab": {
     "base_uri": "https://localhost:8080/",
     "height": 35
    },
    "id": "Hd2cS-8qmvmm",
    "outputId": "4cbd0301-0b28-42b9-9fb8-ead67eafd3f9"
   },
   "outputs": [
    {
     "name": "stdout",
     "output_type": "stream",
     "text": [
      "{'mouse_id': 396881, 'age': 30, 'sex': 'm', 'genotype': 'mutant'}\n"
     ]
    }
   ],
   "source": [
    "mouse_information =\t{\n",
    "  \"mouse_id\": 396881,\n",
    "  \"age\": 30,\n",
    "  \"sex\": 'm',\n",
    "  \"genotype\": 'mutant'\n",
    "}\n",
    "print(mouse_information)"
   ]
  },
  {
   "cell_type": "code",
   "execution_count": 36,
   "metadata": {
    "colab": {
     "base_uri": "https://localhost:8080/",
     "height": 36
    },
    "id": "V_6kKd3vbGQu",
    "outputId": "865d79b9-d621-4564-9793-17d045f59aac"
   },
   "outputs": [
    {
     "data": {
      "text/plain": [
       "'mutant'"
      ]
     },
     "execution_count": 36,
     "metadata": {},
     "output_type": "execute_result"
    }
   ],
   "source": [
    "# What is the genotype of the mouse\n",
    "mouse_information['genotype']"
   ]
  },
  {
   "cell_type": "markdown",
   "metadata": {
    "id": "7G-xLP5zbOMY"
   },
   "source": [
    "Let's add some new information"
   ]
  },
  {
   "cell_type": "code",
   "execution_count": 37,
   "metadata": {
    "colab": {
     "base_uri": "https://localhost:8080/",
     "height": 35
    },
    "id": "tjtIvzq3bLya",
    "outputId": "eb31ef4b-ca35-4a46-8e00-e84f34b81694"
   },
   "outputs": [
    {
     "name": "stdout",
     "output_type": "stream",
     "text": [
      "{'mouse_id': 396881, 'age': 30, 'sex': 'm', 'genotype': 'mutant', 'size': 5.3, 'weight': 23.4}\n"
     ]
    }
   ],
   "source": [
    "mouse_information['size'] = 5.3 # in cm\n",
    "mouse_information['weight'] = 23.4 # in g\n",
    "print(mouse_information)"
   ]
  },
  {
   "cell_type": "markdown",
   "metadata": {
    "id": "V734qOpGmvmo"
   },
   "source": [
    "<a name=\"type_conv\"></a>\n",
    "### Converting types\n",
    "Sometimes we want to convert the types of variables in order to work with other variables of other types.\n",
    "\n",
    "For example if I want to print an **integer** type variable then I should first **convert** it into a **string** type so the **print()** function can understand the data."
   ]
  },
  {
   "cell_type": "code",
   "execution_count": 38,
   "metadata": {
    "id": "IRDJfGA2mvmo",
    "outputId": "8ba2f743-a4ad-45e5-ff22-d16a8ed76233"
   },
   "outputs": [
    {
     "name": "stdout",
     "output_type": "stream",
     "text": [
      "First 'my_age' was: <class 'int'>\n",
      "Then 'my_age_text' became: <class 'str'>\n",
      "My age is: 28\n"
     ]
    }
   ],
   "source": [
    "# Type conversion is done by using type names as functions \n",
    "my_age = 28\n",
    "\n",
    "print(\"First 'my_age' was: \" + str(type(my_age)))\n",
    "\n",
    "\n",
    "# Convert the type using the target type name as a function: str(), int()\n",
    "my_age_text = str(my_age)\n",
    "\n",
    "print(\"Then 'my_age_text' became: \" + str(type(my_age_text)))\n",
    "\n",
    "# Then we can print it without errors\n",
    "print(\"My age is: \" + my_age_text)\n"
   ]
  },
  {
   "cell_type": "markdown",
   "metadata": {
    "id": "Op1lGJ2emvmq"
   },
   "source": [
    "<a name=\"indexing\"></a>\n",
    "### Indexing\n",
    "When we work with any forms of data, we would like to access data quickly. We can use indexing to quickly locate data (for example within a list) without having to search everywhere. Simplest way to index is using the elements location within a data structure (a list, tuple etc.)\n",
    "\n",
    "We use square brackets ```[]``` after the variable name for indexing an element of that variable. ```variable_name[index]```\n",
    "\n",
    "Simplest way of indexing is to use integers to get elements from a specific position in a data structure: ```my_list[10]```\n"
   ]
  },
  {
   "cell_type": "code",
   "execution_count": 39,
   "metadata": {
    "id": "EddSwLmUmvmr"
   },
   "outputs": [],
   "source": [
    "ages = [18, 23, 25, 24, 20, 33, 35]"
   ]
  },
  {
   "cell_type": "markdown",
   "metadata": {
    "id": "VFzBBVLimvmu"
   },
   "source": [
    "#### First element is at location 0!\n",
    "In python the first element is located at ```0``` meaning that we must start counting from 0 to access the elements."
   ]
  },
  {
   "cell_type": "code",
   "execution_count": 40,
   "metadata": {
    "id": "6XYp2iQAmvmv",
    "outputId": "c79dbaba-0aa3-40dd-a120-aba75085db55"
   },
   "outputs": [
    {
     "name": "stdout",
     "output_type": "stream",
     "text": [
      "18\n"
     ]
    }
   ],
   "source": [
    "first_age = ages[0]\n",
    "print(first_age)"
   ]
  },
  {
   "cell_type": "markdown",
   "metadata": {
    "id": "fRnTWBXDmvmy"
   },
   "source": [
    "#### Use negative to reverse it!\n",
    "We can count from reverse using negative numbers: \n",
    "\n",
    "e.g., access the last element using ```-1``` as an index."
   ]
  },
  {
   "cell_type": "code",
   "execution_count": 41,
   "metadata": {
    "id": "odfI8dJdmvmy",
    "outputId": "b5680877-f2fd-49bd-c973-20d1248895dc"
   },
   "outputs": [
    {
     "name": "stdout",
     "output_type": "stream",
     "text": [
      "35\n"
     ]
    }
   ],
   "source": [
    "last_age = ages[-1]\n",
    "print(last_age)"
   ]
  },
  {
   "cell_type": "code",
   "execution_count": 42,
   "metadata": {
    "id": "tN-QoYQ9mvm1",
    "outputId": "53504982-9f5f-41d0-fda5-7435f1a0d724"
   },
   "outputs": [
    {
     "name": "stdout",
     "output_type": "stream",
     "text": [
      "33\n"
     ]
    }
   ],
   "source": [
    "second_to_last = ages[-2]\n",
    "print(second_to_last)"
   ]
  },
  {
   "cell_type": "markdown",
   "metadata": {},
   "source": [
    "Back to [lists](#list)"
   ]
  },
  {
   "cell_type": "markdown",
   "metadata": {
    "id": "TwmlkrGmmvm4"
   },
   "source": [
    "#### Summary of locations \n",
    "python-sticky-note-variables.svg\n",
    "\n",
    "<img src=\"https://github.com/bgur123/python-beginners-course/blob/master/Content/Media/indexing.png?raw=1\" width =\"700px\">"
   ]
  },
  {
   "cell_type": "markdown",
   "metadata": {
    "id": "poYAypWNmvm4"
   },
   "source": [
    "#### Slice a piece out!\n",
    "\n",
    "We can also access multiple elements (also called **slicing**):\n",
    "\n",
    "```list[start : stop]```\n",
    "\n",
    "- ```start``` is the index of the **first element to include**\n",
    "- ```stop``` is the index of the element to **stop at without including** it in the slice.\n",
    "          "
   ]
  },
  {
   "cell_type": "code",
   "execution_count": 43,
   "metadata": {
    "id": "LzodBe1Amvm5",
    "outputId": "f337a7f0-16ac-4312-dfa2-207d7775c1b8"
   },
   "outputs": [
    {
     "name": "stdout",
     "output_type": "stream",
     "text": [
      "[18, 23, 25]\n"
     ]
    }
   ],
   "source": [
    "first_3_ages = ages[0:3]\n",
    "print(first_3_ages)"
   ]
  },
  {
   "cell_type": "markdown",
   "metadata": {
    "id": "Yb73KyaJmvm7"
   },
   "source": [
    "We can leave either one blank to start from beginning or end at the end."
   ]
  },
  {
   "cell_type": "code",
   "execution_count": 44,
   "metadata": {
    "id": "ncTaoUMkmvm9",
    "outputId": "22333f52-1b88-4412-f807-114f4e71fbc6"
   },
   "outputs": [
    {
     "name": "stdout",
     "output_type": "stream",
     "text": [
      "[18, 23, 25]\n"
     ]
    }
   ],
   "source": [
    "first_3_ages = ages[:3]\n",
    "print(first_3_ages)"
   ]
  },
  {
   "cell_type": "code",
   "execution_count": 45,
   "metadata": {
    "id": "zifoqVdkmvm_",
    "outputId": "7dd0a656-457e-43cf-ac01-93df000b93ea"
   },
   "outputs": [
    {
     "name": "stdout",
     "output_type": "stream",
     "text": [
      "[20, 33, 35]\n"
     ]
    }
   ],
   "source": [
    "last_3_ages = ages[-3:]\n",
    "print(last_3_ages)"
   ]
  },
  {
   "cell_type": "code",
   "execution_count": 46,
   "metadata": {
    "id": "b-14uoBvmvnE",
    "outputId": "54b163fd-b3b0-4927-e7f0-118a1e9960d3"
   },
   "outputs": [
    {
     "name": "stdout",
     "output_type": "stream",
     "text": [
      "[18, 23, 25, 24, 20, 33, 35]\n"
     ]
    }
   ],
   "source": [
    "all_ages = ages[:]\n",
    "print(all_ages)"
   ]
  },
  {
   "cell_type": "markdown",
   "metadata": {
    "id": "7cVELcavmvnH"
   },
   "source": [
    "#### Stepping "
   ]
  },
  {
   "cell_type": "markdown",
   "metadata": {
    "id": "9H5qQIqRmvnH"
   },
   "source": [
    "We can take steps while indexing. This enables us to take for example, every 2nd element.\n",
    "\n",
    "```list[start : stop : step]```\n",
    "\n",
    "- ```step``` determines the step size. \n",
    "          "
   ]
  },
  {
   "cell_type": "code",
   "execution_count": 47,
   "metadata": {
    "id": "7zhYwwXfmvnH",
    "outputId": "f584ae62-8993-4cd8-9ffc-b0984cd3e014"
   },
   "outputs": [
    {
     "name": "stdout",
     "output_type": "stream",
     "text": [
      "Original list:\n",
      "[18, 23, 25, 24, 20, 33, 35]\n",
      "Every 2nd element (step is 2):\n",
      "[18, 25, 20, 35]\n"
     ]
    }
   ],
   "source": [
    "some_ages = ages[::2]\n",
    "print('Original list:')\n",
    "print(ages)\n",
    "print('Every 2nd element (step is 2):')\n",
    "print(some_ages)"
   ]
  },
  {
   "cell_type": "markdown",
   "metadata": {
    "id": "qa6kfNTomvnV"
   },
   "source": [
    "Reverse the direction of stepping using negative integers."
   ]
  },
  {
   "cell_type": "code",
   "execution_count": 48,
   "metadata": {
    "id": "qCdoBLKVmvnV",
    "outputId": "48cb6d71-b3bc-430d-9dbe-545dfa0f3bc7"
   },
   "outputs": [
    {
     "name": "stdout",
     "output_type": "stream",
     "text": [
      "Original list:\n",
      "[18, 23, 25, 24, 20, 33, 35]\n",
      "Every 2nd element in reverse (step is -2):\n",
      "[35, 20, 25, 18]\n"
     ]
    }
   ],
   "source": [
    "some_ages = ages[::-2]\n",
    "print('Original list:')\n",
    "print(ages)\n",
    "print('Every 2nd element in reverse (step is -2):')\n",
    "print(some_ages)"
   ]
  },
  {
   "cell_type": "markdown",
   "metadata": {},
   "source": [
    "### Exercise time!\n",
    "\n",
    "\n",
    "\n"
   ]
  },
  {
   "cell_type": "code",
   "execution_count": null,
   "metadata": {},
   "outputs": [],
   "source": []
  }
 ],
 "metadata": {
  "colab": {
   "collapsed_sections": [
    "vKtBd1_-mvk0",
    "EQssVClomvk8",
    "3KTHnvqfmvk9",
    "kV0vFYn9mvle",
    "QrTbeVq-mvll",
    "CpmMXtvdmvlp",
    "kMY4A4FRmvl6",
    "DxVKoiObmvmC",
    "7-YTtGQlmvmG",
    "FWbDIxwXmvmO",
    "9WrB8yUJmvmS",
    "vXxEISxMmvmW",
    "wNbVKWrbmvme",
    "y3bxUpTMmvml",
    "V734qOpGmvmo",
    "Op1lGJ2emvmq",
    "VFzBBVLimvmu",
    "fRnTWBXDmvmy",
    "TwmlkrGmmvm4",
    "poYAypWNmvm4",
    "7cVELcavmvnH"
   ],
   "name": "Copy of 1_Let's start programming.ipynb",
   "provenance": [],
   "toc_visible": true
  },
  "kernelspec": {
   "display_name": "Python 3",
   "language": "python",
   "name": "python3"
  },
  "language_info": {
   "codemirror_mode": {
    "name": "ipython",
    "version": 3
   },
   "file_extension": ".py",
   "mimetype": "text/x-python",
   "name": "python",
   "nbconvert_exporter": "python",
   "pygments_lexer": "ipython3",
   "version": "3.7.3"
  }
 },
 "nbformat": 4,
 "nbformat_minor": 1
}
