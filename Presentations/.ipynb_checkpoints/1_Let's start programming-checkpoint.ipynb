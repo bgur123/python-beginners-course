{
 "cells": [
  {
   "cell_type": "markdown",
   "metadata": {},
   "source": [
    "# Let's start programming\n",
    "\n",
    "In this section we will start learning about the our Jupyter IDE and basics of programming with Python.\n",
    "\n",
    "## Contents\n",
    "\n",
    "### [0. Working with the Jupyter notebook](#Jupyter)\n",
    "\n",
    "### [1. Basics of Python ](#Basics)\n"
   ]
  },
  {
   "cell_type": "markdown",
   "metadata": {},
   "source": [
    "<a name=\"Jupyter\"></a>\n",
    "## 0. Working with the Jupyter notebook\n",
    "<img src=\"../Content/Media/jupyter.png\" style=\"width: 100px\">  \n",
    "\n",
    "- The so called \"Jupyter Notebook\" app allows us to write formatted text together with executable code. \n",
    "- This document is a Jupyter Notebook file (with file extension .ipynb).\n",
    "\n",
    "### Our Dashboard\n",
    "Home folder of the Jupyter Notebooks. There we can open our notebooks and also create new ones. Just click on the \"Jupyter\" logo in the left upper corner.\n",
    "\n",
    "#### Jupyter has \"cells\" (sections of text)**\n",
    "Jupyter notebook allows us to write nicely organized text along with sequential codes inside sections. These sections are called **\"cells\"**\n",
    "\n",
    "#### Jupyter has 2 types of cells: \n",
    "- **MARKDOWN**\n",
    "    - Used to write formatted text (headings, subheadings, images etc.)\n",
    "- **CODE**\n",
    "    - Used to write executable code.\n",
    "    - Look for -> \"In [ ] \" before the cells\n",
    "    \n",
    "#### Jupyter has 2 types of modes: \n",
    "- **EDIT**\n",
    "    - press **ENTER** or double click **inside** the cell\n",
    "    - For writing inside the cells \n",
    "    - Cell border becomes **<font color=green>GREEN:</font>**\n",
    "- **COMMAND**\n",
    "    - press **ESC** or click **next** to the cell\n",
    "    - Used to edit blocks of cells\n",
    "    - Cell border becomes **<font color=blue>BLUE:</font>**\n",
    "\n",
    "#### Press Shift + ENTER to execute a code cell and activate a markdown cell"
   ]
  },
  {
   "cell_type": "markdown",
   "metadata": {},
   "source": [
    "## This is a **MARKDOWN** cell, double click to investigate contents\n",
    "\n",
    "Headings start with \"#\", number of # indicates heading level (subheadings)\n",
    "\n",
    "shift+ENTER to activate the cell again."
   ]
  },
  {
   "cell_type": "markdown",
   "metadata": {},
   "source": [
    "## Below is a CODE cell"
   ]
  },
  {
   "cell_type": "code",
   "execution_count": 1,
   "metadata": {},
   "outputs": [
    {
     "data": {
      "text/plain": [
       "2"
      ]
     },
     "execution_count": 1,
     "metadata": {},
     "output_type": "execute_result"
    }
   ],
   "source": [
    "# A code cell\n",
    "# This is a comment in python code starting with \"#\"\n",
    "\n",
    "1+1 # This is a python statement (a complete line of code that does an action)"
   ]
  },
  {
   "cell_type": "markdown",
   "metadata": {},
   "source": [
    "<a name=\"Basics\"></a>\n",
    "## 1. Basics of Python\n",
    "\n",
    "### Overview:\n",
    "#### - [Python as a calculator](#calculator)\n",
    "#### - [Variables](#var)\n",
    "#### - [Errors](#err)\n",
    "#### - [Data types](#datype)\n",
    "- For single data points\n",
    "    - [integers](#int)\n",
    "    - [floats](#float)\n",
    "    - [strings](#str) \n",
    "    - [booleans](#bool)\n",
    "- For multiple data points\n",
    "    - [lists](#list)\n",
    "    - [tuples](#tup)\n",
    "    - [dictionaries](#dict)\n",
    "    \n",
    "#### - [Type conversions](#type_conv)\n"
   ]
  },
  {
   "cell_type": "markdown",
   "metadata": {},
   "source": [
    "<a name=\"calculator\"></a>\n"
   ]
  },
  {
   "cell_type": "markdown",
   "metadata": {},
   "source": [
    "<a name=\"calculator\"></a>\n",
    "## Python as a calculator\n",
    "Python can be used as a calculator. And basic mathematical operations can be easily done using **python operators** (pre defined symbols for doing operations between values or variables). \n",
    "\n",
    "| Operator | Name    |\n",
    "|------|------|\n",
    "|```+```  | Addition|\n",
    "|```-```  | Subtraction|\n",
    "|```*```  | Multiplication|\n",
    "|```/```  | Division|\n",
    "|```**```  | Exponentiation|\n",
    "|```%```  | Modulus|\n"
   ]
  },
  {
   "cell_type": "code",
   "execution_count": 18,
   "metadata": {},
   "outputs": [
    {
     "data": {
      "text/plain": [
       "6"
      ]
     },
     "execution_count": 18,
     "metadata": {},
     "output_type": "execute_result"
    }
   ],
   "source": [
    "# Examples for some operators\n",
    "1+5"
   ]
  },
  {
   "cell_type": "code",
   "execution_count": 19,
   "metadata": {},
   "outputs": [
    {
     "data": {
      "text/plain": [
       "6"
      ]
     },
     "execution_count": 19,
     "metadata": {},
     "output_type": "execute_result"
    }
   ],
   "source": [
    "2*3"
   ]
  },
  {
   "cell_type": "code",
   "execution_count": 20,
   "metadata": {},
   "outputs": [
    {
     "data": {
      "text/plain": [
       "8"
      ]
     },
     "execution_count": 20,
     "metadata": {},
     "output_type": "execute_result"
    }
   ],
   "source": [
    "2**3"
   ]
  },
  {
   "cell_type": "code",
   "execution_count": 11,
   "metadata": {},
   "outputs": [
    {
     "data": {
      "text/plain": [
       "4"
      ]
     },
     "execution_count": 11,
     "metadata": {},
     "output_type": "execute_result"
    }
   ],
   "source": [
    "100%24"
   ]
  },
  {
   "cell_type": "markdown",
   "metadata": {},
   "source": [
    "The **order** of operations is important\n",
    "Use parantheses to define order of operations```()```"
   ]
  },
  {
   "cell_type": "code",
   "execution_count": 12,
   "metadata": {},
   "outputs": [
    {
     "data": {
      "text/plain": [
       "4.25"
      ]
     },
     "execution_count": 12,
     "metadata": {},
     "output_type": "execute_result"
    }
   ],
   "source": [
    "# Add 3 to 5 and divide by 4 -> result is 2\n",
    "3+5/4"
   ]
  },
  {
   "cell_type": "code",
   "execution_count": 13,
   "metadata": {},
   "outputs": [
    {
     "data": {
      "text/plain": [
       "2.0"
      ]
     },
     "execution_count": 13,
     "metadata": {},
     "output_type": "execute_result"
    }
   ],
   "source": [
    "(3+5)/4"
   ]
  },
  {
   "cell_type": "markdown",
   "metadata": {},
   "source": [
    "How can we store the result of our calculation in python? Through **variables**"
   ]
  },
  {
   "cell_type": "markdown",
   "metadata": {},
   "source": [
    "<a name=\"var\"></a>\n",
    "## Variables\n",
    "\n",
    "Variables are used to store data of any sort.\n",
    "\n",
    "Variables are created with an assignment statement. The syntax (kind of grammar) of variable assignment is:\n",
    "\n",
    "```variable_name = a value``` (or an expression e.g., ```1+1```)\n"
   ]
  },
  {
   "cell_type": "code",
   "execution_count": 14,
   "metadata": {},
   "outputs": [],
   "source": [
    "x = 100 # x is the variable name, 100 is its value"
   ]
  },
  {
   "cell_type": "markdown",
   "metadata": {},
   "source": [
    "We just *defined* a variable by assigning a value. Now we can use it."
   ]
  },
  {
   "cell_type": "code",
   "execution_count": 15,
   "metadata": {},
   "outputs": [
    {
     "data": {
      "text/plain": [
       "10.0"
      ]
     },
     "execution_count": 15,
     "metadata": {},
     "output_type": "execute_result"
    }
   ],
   "source": [
    "x/10"
   ]
  },
  {
   "cell_type": "code",
   "execution_count": 16,
   "metadata": {},
   "outputs": [
    {
     "data": {
      "text/plain": [
       "102"
      ]
     },
     "execution_count": 16,
     "metadata": {},
     "output_type": "execute_result"
    }
   ],
   "source": [
    "x+2"
   ]
  },
  {
   "cell_type": "markdown",
   "metadata": {},
   "source": [
    "### Naming variables\n",
    "Python variable names:\n",
    "- can contain letters, numbers and underscores\n",
    "- can NOT start with a number\n",
    "- are case sensitive (example_Variable vs example_variable)\n",
    "\n",
    "Variable names should be **descriptive** (but not too long, otherwise your code will look very complicated) \n",
    "- number_of_all_cells -> cell_num\n"
   ]
  },
  {
   "cell_type": "markdown",
   "metadata": {},
   "source": [
    "<a name=\"err\"></a>\n",
    "## Errors\n",
    "\n",
    "We are all human. Sometimes we might write incorrect code and python might inform this to us by producing an error. These errors also contain messages that explain what went wrong while python was executing your code.\n"
   ]
  },
  {
   "cell_type": "code",
   "execution_count": 17,
   "metadata": {},
   "outputs": [
    {
     "ename": "NameError",
     "evalue": "name 'y' is not defined",
     "output_type": "error",
     "traceback": [
      "\u001b[0;31m---------------------------------------------------------------------------\u001b[0m",
      "\u001b[0;31mNameError\u001b[0m                                 Traceback (most recent call last)",
      "\u001b[0;32m<ipython-input-17-f57a92f8cef0>\u001b[0m in \u001b[0;36m<module>\u001b[0;34m\u001b[0m\n\u001b[0;32m----> 1\u001b[0;31m \u001b[0mprint\u001b[0m\u001b[0;34m(\u001b[0m\u001b[0my\u001b[0m\u001b[0;34m)\u001b[0m\u001b[0;34m\u001b[0m\u001b[0;34m\u001b[0m\u001b[0m\n\u001b[0m\u001b[1;32m      2\u001b[0m \u001b[0my\u001b[0m \u001b[0;34m=\u001b[0m \u001b[0;36m10\u001b[0m\u001b[0;34m\u001b[0m\u001b[0;34m\u001b[0m\u001b[0m\n",
      "\u001b[0;31mNameError\u001b[0m: name 'y' is not defined"
     ]
    }
   ],
   "source": [
    "print(y)\n",
    "y = 10"
   ]
  },
  {
   "cell_type": "markdown",
   "metadata": {},
   "source": [
    "\n",
    "These messages are composed in a logical way, :\n",
    "1. What is the **type of error** (<font color=red>NameError</font>)\n",
    "2. **Where (which file)** the error occured (in our case this is not useful)\n",
    "4. **Which line** has the error producing code\n",
    "4. **Why** there was an error\n",
    "\n",
    "<a name=\"errorex\"></a>\n",
    "#### Practice: \n",
    "Investigate our previous error message and find the corresponding error components. Fill the cell below with your answers.\n",
    "\n"
   ]
  },
  {
   "cell_type": "markdown",
   "metadata": {},
   "source": [
    "##### FILL BELOW\n",
    "\n",
    "Error type:\n",
    "\n",
    "File: (Just skip this since we have only this file.)\n",
    "\n",
    "Line:\n",
    "\n",
    "Reason:"
   ]
  },
  {
   "cell_type": "markdown",
   "metadata": {},
   "source": [
    "<a name=\"datype\"></a>\n",
    "## Data types\n",
    "\n",
    "Data are of different types.\n",
    "\n",
    "For example: Data that contain names would consist of characters and data that contain ages would consist of numbers. \n",
    "\n",
    "Python's most common data types are:\n",
    "\n",
    "#### For numbers:\n",
    "- [integers](#int) (for storing integers - whole numbers - e.g. 2)\n",
    "\n",
    "\n",
    "- [floats](#float) (for storing numbers with fractions e.g. 1.0025)\n",
    "\n",
    "#### For characters (text):\n",
    "- [strings](#str) \n",
    "\n",
    "#### For logicals (1, 0 - True, False):\n",
    "- [booleans](#bool) (binary data: True or False) \n",
    "\n",
    "#### For multiple data points:\n",
    "- [lists](#list) (for storing an arbitrary dimension of data points e.g. a time trace)\n",
    "\n",
    "\n",
    "- [tuples](#tup) (storing data pairs of same type e.g. XY coordinates)\n",
    "\n",
    "\n",
    "- [dictionaries](#dict) (for storing parameters (key:value) e.g. \"age\":27)\n"
   ]
  },
  {
   "cell_type": "markdown",
   "metadata": {},
   "source": [
    "<a name=\"int\"></a>\n",
    "### Integers\n"
   ]
  },
  {
   "cell_type": "code",
   "execution_count": 36,
   "metadata": {},
   "outputs": [
    {
     "name": "stdout",
     "output_type": "stream",
     "text": [
      "I am 28 years old\n",
      "I was born on 1992\n"
     ]
    }
   ],
   "source": [
    "# Below are some examples of integers\n",
    "my_age = 28\n",
    "my_birthyear = 1992\n",
    "\n",
    "print(\"I am {age} years old\".format(age=my_age))\n",
    "print(\"I was born on {year}\".format(year=my_birthyear))"
   ]
  },
  {
   "cell_type": "markdown",
   "metadata": {},
   "source": [
    "We can check the type of variables by using ```type()``` function"
   ]
  },
  {
   "cell_type": "code",
   "execution_count": 37,
   "metadata": {},
   "outputs": [
    {
     "name": "stdout",
     "output_type": "stream",
     "text": [
      "<class 'int'>\n"
     ]
    }
   ],
   "source": [
    "# Usage of type() function\n",
    "type(my_age)\n",
    "\n",
    "# Print the type\n",
    "print(type(my_age))\n",
    "\n",
    "# It will print out: <class 'int'> meaning that \n",
    "# the type (you call data types \"class\") is integer"
   ]
  },
  {
   "cell_type": "code",
   "execution_count": 38,
   "metadata": {},
   "outputs": [
    {
     "name": "stdout",
     "output_type": "stream",
     "text": [
      "x is 3, y is 4, z is 12.\n",
      "x is <class 'int'>, y is <class 'int'>, z is <class 'int'> \n"
     ]
    }
   ],
   "source": [
    "# As you remember we can do calculations with Python like a calculator\n",
    "x = 3\n",
    "y = 4\n",
    "z = x*y\n",
    "\n",
    "\n",
    "print(\"x is {xVal}, y is {yVal}, z is {zVal}.\".format(xVal=x, yVal=y, zVal=z))\n",
    "print(\"x is {xType}, y is {yType}, z is {zType} \".format(xType=type(x), \n",
    "                                                         yType=type(y), \n",
    "                                                         zType=type(z)))"
   ]
  },
  {
   "cell_type": "markdown",
   "metadata": {},
   "source": [
    "Now we have defined several varibles in the previous cells. These are stored in our **workspace**\n",
    "\n",
    "write ```whos``` to check which variables we have in our current workspace."
   ]
  },
  {
   "cell_type": "code",
   "execution_count": 41,
   "metadata": {},
   "outputs": [
    {
     "name": "stdout",
     "output_type": "stream",
     "text": [
      "Interactive namespace is empty.\n"
     ]
    }
   ],
   "source": [
    "whos"
   ]
  },
  {
   "cell_type": "markdown",
   "metadata": {},
   "source": [
    "We can erase them using ```%reset```"
   ]
  },
  {
   "cell_type": "code",
   "execution_count": 40,
   "metadata": {},
   "outputs": [
    {
     "name": "stdout",
     "output_type": "stream",
     "text": [
      "Once deleted, variables cannot be recovered. Proceed (y/[n])? y\n"
     ]
    }
   ],
   "source": [
    "%reset"
   ]
  },
  {
   "cell_type": "code",
   "execution_count": 42,
   "metadata": {},
   "outputs": [
    {
     "name": "stdout",
     "output_type": "stream",
     "text": [
      "Interactive namespace is empty.\n"
     ]
    }
   ],
   "source": [
    "whos"
   ]
  },
  {
   "cell_type": "markdown",
   "metadata": {},
   "source": [
    "#### Practice : <a name=\"errorex\"></a>\n",
    "1. Generate two integer type variables of your choice\n",
    "2. Do a calculation that yields a fractional value (e.g. 5/2 = 2.5)\n",
    "3. What is the type of our result variable (z, in this case)\n"
   ]
  },
  {
   "cell_type": "code",
   "execution_count": 3,
   "metadata": {},
   "outputs": [
    {
     "name": "stdout",
     "output_type": "stream",
     "text": [
      "x is 5, y is 2, z is 2.5 \n",
      "x is <class 'int'>, y is <class 'int'>, z is <class 'float'> \n"
     ]
    }
   ],
   "source": [
    "# Below goes your code\n",
    "x = 5\n",
    "y = 2\n",
    "z= x/y\n",
    "# Your code ends\n",
    "\n",
    "\n",
    "print(\"x is {xVal}, y is {yVal}, z is {zVal} \".format(xVal=x, yVal=y, zVal=z))\n",
    "print(\"x is {xType}, y is {yType}, z is {zType} \".format(xType=type(x), \n",
    "                                                         yType=type(y), \n",
    "                                                         zType=type(z)))"
   ]
  },
  {
   "cell_type": "markdown",
   "metadata": {},
   "source": [
    "<a name=\"float\"></a>\n",
    "### Floats\n",
    "**Floating point number** (Float) is a way of representing a non-integer real number with a computer.\n"
   ]
  },
  {
   "cell_type": "code",
   "execution_count": 21,
   "metadata": {},
   "outputs": [
    {
     "name": "stdout",
     "output_type": "stream",
     "text": [
      "BMI is: 22.392326025139397\n",
      "<class 'float'>\n"
     ]
    }
   ],
   "source": [
    "# Calculating Body Mass Index (BMI)\n",
    "my_weight = 75.4\n",
    "my_height = 183.5 # Height in cm\n",
    "my_height_meters = my_height / 100 # Calculate height in meters\n",
    "\n",
    "my_BMI = (my_weight/((my_height_meters)**2)) \n",
    "\n",
    "print(\"BMI is: {bmi}\".format(bmi=my_BMI))\n",
    "print(type(my_BMI))"
   ]
  },
  {
   "cell_type": "markdown",
   "metadata": {},
   "source": [
    "<a name=\"str\"></a>\n",
    "### Strings\n",
    "\n",
    "What if we want to store characters instead of numbers? Usually we want to store a set of characters instead of storing each character 1 by 1 (like instead of storing - n, a, m, e - we want to store them together as -name-). This is called a string of characters. That's why the type is also called **string**."
   ]
  },
  {
   "cell_type": "code",
   "execution_count": 6,
   "metadata": {},
   "outputs": [],
   "source": [
    "# Some string examples\n",
    "my_name = \"Burak\"\n",
    "my_country = \"Turkey\""
   ]
  },
  {
   "cell_type": "code",
   "execution_count": 82,
   "metadata": {},
   "outputs": [],
   "source": [
    "# Check the type of the variable \"my_name\" below\n",
    "\n",
    "# Your code below\n",
    "\n",
    "# Your code ends"
   ]
  },
  {
   "cell_type": "markdown",
   "metadata": {},
   "source": [
    "- We should use **double quoutes ```\" __ \"``` or single quotes ```' __ '```** when limiting a string.\n",
    "- We can use the escape ```\\\\``` character to continue our string in the next line.\n",
    "- Or, we can use **triple quoutes ```''' __ '''```** if we would like to use multiline strings"
   ]
  },
  {
   "cell_type": "code",
   "execution_count": 22,
   "metadata": {},
   "outputs": [
    {
     "name": "stdout",
     "output_type": "stream",
     "text": [
      "ABC\n",
      "Our text is getting too long so I can continue on the next line of code\n"
     ]
    }
   ],
   "source": [
    "# Defining a single line string\n",
    "singleLineString = 'ABC' # or \"ABC\" also works fine\n",
    "\n",
    "# Defining a multi line string\n",
    "multiline_string_1 = 'Our text is getting too long \\\n",
    "so I can continue on the next line of code' \n",
    "\n",
    "print(singleLineString)\n",
    "print(multiline_string_1)"
   ]
  },
  {
   "cell_type": "code",
   "execution_count": 23,
   "metadata": {},
   "outputs": [
    {
     "name": "stdout",
     "output_type": "stream",
     "text": [
      "This\n",
      "is \n",
      "a\n",
      "multiline\n",
      "string\n",
      "\n"
     ]
    }
   ],
   "source": [
    "# A multiline string\n",
    "multiline_string_2 = '''This\n",
    "is \n",
    "a\n",
    "multiline\n",
    "string\n",
    "'''\n",
    "print(multiline_string_2)"
   ]
  },
  {
   "cell_type": "markdown",
   "metadata": {},
   "source": [
    "#### Adding blank space (a.k.a. whitespace)\n",
    "- Use ```\\n``` to add a new line (like pressing enter)\n",
    "- Use ```\\t``` for adding a tab\n",
    "\n"
   ]
  },
  {
   "cell_type": "code",
   "execution_count": 35,
   "metadata": {},
   "outputs": [
    {
     "name": "stdout",
     "output_type": "stream",
     "text": [
      "Hello \n",
      " world\n"
     ]
    }
   ],
   "source": [
    "# New line example\n",
    "two_line_string = 'Hello \\n world'\n",
    "print(two_line_string)\n"
   ]
  },
  {
   "cell_type": "code",
   "execution_count": 34,
   "metadata": {},
   "outputs": [
    {
     "name": "stdout",
     "output_type": "stream",
     "text": [
      "\tHello  world\n"
     ]
    }
   ],
   "source": [
    "# Tab example\n",
    "two_line_string = '\\tHello  world'\n",
    "print(two_line_string)"
   ]
  },
  {
   "cell_type": "markdown",
   "metadata": {},
   "source": [
    "#### Concatenating (combining) \n",
    "Sometimes we want to combine strings. There are many ways of doing it. \n",
    "\n",
    "A fast and easy-to-read way is using the plus **```+```** operator."
   ]
  },
  {
   "cell_type": "code",
   "execution_count": 24,
   "metadata": {},
   "outputs": [
    {
     "name": "stdout",
     "output_type": "stream",
     "text": [
      "BurakGur\n",
      "Burak Gur\n"
     ]
    }
   ],
   "source": [
    "my_name = \"Burak\"\n",
    "my_surname = \"Gur\"\n",
    "\n",
    "\n",
    "my_fullname = my_name + my_surname # Just joining them together\n",
    "my_fullname_nice = my_name + ' ' + my_surname # Joining with a space\n",
    "\n",
    "\n",
    "print(my_fullname)\n",
    "print(my_fullname_nice)"
   ]
  },
  {
   "cell_type": "markdown",
   "metadata": {},
   "source": [
    "#### Practice: Printing age as text\n",
    "hint: [Use the error practice](#errorex)  we did before to really understand why the error is produced. Then solve it using the concept of [type conversions](#type_conv)."
   ]
  },
  {
   "cell_type": "code",
   "execution_count": 25,
   "metadata": {},
   "outputs": [
    {
     "ename": "TypeError",
     "evalue": "can only concatenate str (not \"int\") to str",
     "output_type": "error",
     "traceback": [
      "\u001b[0;31m---------------------------------------------------------------------------\u001b[0m",
      "\u001b[0;31mTypeError\u001b[0m                                 Traceback (most recent call last)",
      "\u001b[0;32m<ipython-input-25-0993d85a4ba0>\u001b[0m in \u001b[0;36m<module>\u001b[0;34m\u001b[0m\n\u001b[1;32m      4\u001b[0m \u001b[0;34m\u001b[0m\u001b[0m\n\u001b[1;32m      5\u001b[0m \u001b[0;34m\u001b[0m\u001b[0m\n\u001b[0;32m----> 6\u001b[0;31m \u001b[0mmy_info\u001b[0m \u001b[0;34m=\u001b[0m \u001b[0mmy_name\u001b[0m \u001b[0;34m+\u001b[0m \u001b[0;34m' '\u001b[0m \u001b[0;34m+\u001b[0m \u001b[0mmy_surname\u001b[0m \u001b[0;34m+\u001b[0m \u001b[0;34m' age: '\u001b[0m \u001b[0;34m+\u001b[0m \u001b[0mmy_age\u001b[0m\u001b[0;34m\u001b[0m\u001b[0;34m\u001b[0m\u001b[0m\n\u001b[0m\u001b[1;32m      7\u001b[0m \u001b[0;34m\u001b[0m\u001b[0m\n\u001b[1;32m      8\u001b[0m \u001b[0;34m\u001b[0m\u001b[0m\n",
      "\u001b[0;31mTypeError\u001b[0m: can only concatenate str (not \"int\") to str"
     ]
    }
   ],
   "source": [
    "my_name = \"Burak\"\n",
    "my_surname = \"Gur\"\n",
    "my_age = 28\n",
    "\n",
    "\n",
    "my_info = my_name + ' ' + my_surname + ' age: ' + my_age \n",
    "\n",
    "\n",
    "print(my_info)"
   ]
  },
  {
   "cell_type": "code",
   "execution_count": 26,
   "metadata": {},
   "outputs": [
    {
     "name": "stdout",
     "output_type": "stream",
     "text": [
      "Burak Gur age: 28\n"
     ]
    }
   ],
   "source": [
    "# Your code goes below\n",
    "my_name = \"Burak\"\n",
    "my_surname = \"Gur\"\n",
    "my_age = 28\n",
    "\n",
    "\n",
    "my_info = my_name + ' ' + my_surname + ' age: ' + str(my_age) \n",
    "\n",
    "\n",
    "print(my_info)\n",
    "# Your code ends here"
   ]
  },
  {
   "cell_type": "markdown",
   "metadata": {},
   "source": [
    "**The output should be:**\n",
    "\n",
    "Burak Gur age: 28"
   ]
  },
  {
   "cell_type": "markdown",
   "metadata": {},
   "source": [
    "#### String formatting\n",
    "An easier way of concatenating is with the ```format()``` function.\n"
   ]
  },
  {
   "cell_type": "code",
   "execution_count": 30,
   "metadata": {},
   "outputs": [
    {
     "name": "stdout",
     "output_type": "stream",
     "text": [
      "Name is: Burak, surname is: Gur, age is: 28\n"
     ]
    }
   ],
   "source": [
    "my_name = \"Burak\"\n",
    "my_surname = \"Gur\"\n",
    "my_age = 28\n",
    "\n",
    "\n",
    "my_info = \"Name is: {name}, surname is: {surname}, age is: {age}\".format(name=my_name,\n",
    "                                                                        surname=my_surname,\n",
    "                                                                        age=my_age)\n",
    "print(my_info)"
   ]
  },
  {
   "cell_type": "markdown",
   "metadata": {},
   "source": [
    "<a name=\"bool\"></a>\n",
    "### Booleans\n",
    "\n",
    "Booleans are data that can vary between only two values (binary) e.g. **0-1** or **True-False**"
   ]
  },
  {
   "cell_type": "code",
   "execution_count": 45,
   "metadata": {},
   "outputs": [],
   "source": [
    "# Example of boolean\n",
    "name = \"Burak\"\n",
    "surname = \"Gur\"\n",
    "age = 28\n",
    "is_student = True\n",
    "is_female = False"
   ]
  },
  {
   "cell_type": "markdown",
   "metadata": {},
   "source": [
    "<a name=\"list\"></a>\n",
    "### Lists\n",
    "Lists are used to store multiple data points. While defining a list, surround the list with brackets ```[]``` and separate each element with a comma ```,```. "
   ]
  },
  {
   "cell_type": "code",
   "execution_count": 1,
   "metadata": {},
   "outputs": [],
   "source": [
    "ages = [18, 23, 25, 24, 20, 33, 35]"
   ]
  },
  {
   "cell_type": "markdown",
   "metadata": {},
   "source": [
    "Curious of how many elements your list has? You can use the ```len()``` function."
   ]
  },
  {
   "cell_type": "code",
   "execution_count": 4,
   "metadata": {},
   "outputs": [
    {
     "name": "stdout",
     "output_type": "stream",
     "text": [
      "My list has 7 elements\n"
     ]
    }
   ],
   "source": [
    "list_length = len(ages)\n",
    "\n",
    "print(\"My list has {elem_n} elements\".format(elem_n = list_length))"
   ]
  },
  {
   "cell_type": "code",
   "execution_count": null,
   "metadata": {},
   "outputs": [],
   "source": []
  },
  {
   "cell_type": "code",
   "execution_count": null,
   "metadata": {},
   "outputs": [],
   "source": []
  },
  {
   "cell_type": "markdown",
   "metadata": {},
   "source": [
    "<a name=\"tup\"></a>\n",
    "### Tuples"
   ]
  },
  {
   "cell_type": "code",
   "execution_count": null,
   "metadata": {},
   "outputs": [],
   "source": []
  },
  {
   "cell_type": "markdown",
   "metadata": {},
   "source": [
    "<a name=\"dict\"></a>\n",
    "### Dictionaries"
   ]
  },
  {
   "cell_type": "code",
   "execution_count": null,
   "metadata": {},
   "outputs": [],
   "source": []
  },
  {
   "cell_type": "markdown",
   "metadata": {},
   "source": [
    "<a name=\"type_conv\"></a>\n",
    "### Converting types\n",
    "Sometimes we want to convert the types of variables in order to work with other variables of other types.\n",
    "\n",
    "For example if I want to print an **integer** type variable then I should first **convert** it into a **string** type so the **print()** function can understand the data."
   ]
  },
  {
   "cell_type": "code",
   "execution_count": 17,
   "metadata": {},
   "outputs": [
    {
     "name": "stdout",
     "output_type": "stream",
     "text": [
      "First 'my_age' was: <class 'int'>\n",
      "Then 'my_age_text' became: <class 'str'>\n",
      "My age is: 28\n"
     ]
    }
   ],
   "source": [
    "# Type conversion is done by using type names as functions \n",
    "my_age = 28\n",
    "\n",
    "print(\"First 'my_age' was: \" + str(type(my_age)))\n",
    "\n",
    "\n",
    "# Convert the type using the target type name as a function: str(), int()\n",
    "my_age_text = str(my_age)\n",
    "\n",
    "print(\"Then 'my_age_text' became: \" + str(type(my_age_text)))\n",
    "\n",
    "# Then we can print it without errors\n",
    "print(\"My age is: \" + my_age_text)\n"
   ]
  },
  {
   "cell_type": "code",
   "execution_count": null,
   "metadata": {},
   "outputs": [],
   "source": []
  },
  {
   "cell_type": "code",
   "execution_count": null,
   "metadata": {},
   "outputs": [],
   "source": []
  }
 ],
 "metadata": {
  "kernelspec": {
   "display_name": "Python 3",
   "language": "python",
   "name": "python3"
  },
  "language_info": {
   "codemirror_mode": {
    "name": "ipython",
    "version": 3
   },
   "file_extension": ".py",
   "mimetype": "text/x-python",
   "name": "python",
   "nbconvert_exporter": "python",
   "pygments_lexer": "ipython3",
   "version": "3.8.1"
  }
 },
 "nbformat": 4,
 "nbformat_minor": 4
}
