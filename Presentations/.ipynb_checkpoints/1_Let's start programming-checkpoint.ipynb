{
 "cells": [
  {
   "cell_type": "markdown",
   "metadata": {},
   "source": [
    "# Let's start programming\n",
    "\n",
    "In this section we will explore what is programming and why we might want to use it in our work.\n",
    "\n",
    "## Contents: Basics of Python programming\n",
    "\n",
    "### [0. Working with the Jupyter notebook](#Jupyter)\n",
    "\n",
    "### [1. Basics of Python ](#Basics)\n"
   ]
  },
  {
   "cell_type": "markdown",
   "metadata": {},
   "source": [
    "<a name=\"Jupyter\"></a>\n",
    "## 0. Working with the Jupyter notebook\n",
    "<img src=\"../Content/Media/jupyter.png\" style=\"width: 100px\">  \n",
    "\n",
    "- This document is a Jupyter Notebook file (with file extension .ipynb).\n",
    "\n",
    "#### Jupyter has \"cells\" (sections of text)**\n",
    "Jupyter notebook allows us to write nicely organized text along with sequential codes inside sections. These sections are called **\"cells\"**\n",
    "\n",
    "#### Jupyter has 2 types of cells: \n",
    "- **MARKDOWN**\n",
    "    - Used to write formatted text (headings, subheadings, images etc.)\n",
    "- **CODE**\n",
    "    - Used to write executable code.\n",
    "    - Look for -> \"In [ ] \" before the cells\n",
    "    \n",
    "#### Jupyter has 2 types of modes: \n",
    "- **EDIT**\n",
    "    - press **ENTER** or double click **inside** the cell\n",
    "    - For writing inside the cells \n",
    "    - Cell border becomes **<font color=green>GREEN:</font>**\n",
    "- **COMMAND**\n",
    "    - press **ESC** or click **next** to the cell\n",
    "    - Used to edit blocks of cells\n",
    "    - Cell border becomes **<font color=blue>BLUE:</font>**\n",
    "\n",
    "#### Press Shift + ENTER to execute a code cell and activate a markdown cell"
   ]
  },
  {
   "cell_type": "markdown",
   "metadata": {},
   "source": [
    "## This is a **MARKDOWN** cell, double click to investigate contents\n",
    "\n",
    "Headings start with \"#\", number of # indicates heading level (subheadings)\n",
    "\n",
    "shift+ENTER to activate the cell again."
   ]
  },
  {
   "cell_type": "markdown",
   "metadata": {},
   "source": [
    "## Below is a CODE cell"
   ]
  },
  {
   "cell_type": "code",
   "execution_count": 7,
   "metadata": {},
   "outputs": [
    {
     "data": {
      "text/plain": [
       "2"
      ]
     },
     "execution_count": 7,
     "metadata": {},
     "output_type": "execute_result"
    }
   ],
   "source": [
    "# A code cell\n",
    "# This is a comment in python code starting with \"#\"\n",
    "\n",
    "1+1 # This is a python statement (a complete line of code that does an action)"
   ]
  },
  {
   "cell_type": "markdown",
   "metadata": {},
   "source": [
    "<a name=\"Basics\"></a>\n",
    "## 1. Basics of Python\n",
    "\n",
    "### Overview:\n",
    "#### - [Python as a calculator](#calculator)\n",
    "#### - [Variables](#var)\n",
    "#### - [Errors](#err)\n",
    "#### - [Data types](#datype)\n"
   ]
  },
  {
   "cell_type": "markdown",
   "metadata": {},
   "source": [
    "<a name=\"calculator\"></a>\n"
   ]
  },
  {
   "cell_type": "markdown",
   "metadata": {},
   "source": [
    "<a name=\"calculator\"></a>\n",
    "## Python as a calculator\n",
    "Python can be used as a calculator. And basic mathematical operations can be easily done using **python operators** (pre defined symbols for doing operations between values or variables). \n",
    "\n",
    "| Operator | Name    |\n",
    "|------|------|\n",
    "|+  | Addition|\n",
    "|-  | Subtraction|\n",
    "|*  | Multiplication|\n",
    "|/  | Division|\n",
    "|**  | Exponentiation|\n",
    "|%  | Modulus|\n"
   ]
  },
  {
   "cell_type": "code",
   "execution_count": 8,
   "metadata": {},
   "outputs": [
    {
     "data": {
      "text/plain": [
       "6"
      ]
     },
     "execution_count": 8,
     "metadata": {},
     "output_type": "execute_result"
    }
   ],
   "source": [
    "# Examples for some operators\n",
    "1+5"
   ]
  },
  {
   "cell_type": "code",
   "execution_count": 9,
   "metadata": {},
   "outputs": [
    {
     "data": {
      "text/plain": [
       "6"
      ]
     },
     "execution_count": 9,
     "metadata": {},
     "output_type": "execute_result"
    }
   ],
   "source": [
    "2*3"
   ]
  },
  {
   "cell_type": "code",
   "execution_count": 10,
   "metadata": {},
   "outputs": [
    {
     "data": {
      "text/plain": [
       "8"
      ]
     },
     "execution_count": 10,
     "metadata": {},
     "output_type": "execute_result"
    }
   ],
   "source": [
    "2**3"
   ]
  },
  {
   "cell_type": "code",
   "execution_count": 11,
   "metadata": {},
   "outputs": [
    {
     "data": {
      "text/plain": [
       "4"
      ]
     },
     "execution_count": 11,
     "metadata": {},
     "output_type": "execute_result"
    }
   ],
   "source": [
    "100%24"
   ]
  },
  {
   "cell_type": "markdown",
   "metadata": {},
   "source": [
    "The **order** of operations is important\n",
    "Use parantheses to define order of operations\"()\""
   ]
  },
  {
   "cell_type": "code",
   "execution_count": 12,
   "metadata": {},
   "outputs": [
    {
     "data": {
      "text/plain": [
       "4.25"
      ]
     },
     "execution_count": 12,
     "metadata": {},
     "output_type": "execute_result"
    }
   ],
   "source": [
    "# Add 3 to 5 and divide by 4 -> result is 2\n",
    "3+5/4"
   ]
  },
  {
   "cell_type": "code",
   "execution_count": 13,
   "metadata": {},
   "outputs": [
    {
     "data": {
      "text/plain": [
       "2.0"
      ]
     },
     "execution_count": 13,
     "metadata": {},
     "output_type": "execute_result"
    }
   ],
   "source": [
    "(3+5)/4"
   ]
  },
  {
   "cell_type": "markdown",
   "metadata": {},
   "source": [
    "How can we store the result of our calculation in python? Through **variables**"
   ]
  },
  {
   "cell_type": "markdown",
   "metadata": {},
   "source": [
    "<a name=\"var\"></a>\n",
    "## Variables\n",
    "\n",
    "Variables are used to store data of any sort.\n",
    "\n",
    "Variables are created with an assignment statement. The syntax (kind of grammar) of variable assignment is:\n",
    "\n",
    "*variable_name = a value (or an expression e.g., 1+1)*\n"
   ]
  },
  {
   "cell_type": "code",
   "execution_count": 14,
   "metadata": {},
   "outputs": [],
   "source": [
    "x = 100 # x is the variable name, 100 is its value"
   ]
  },
  {
   "cell_type": "markdown",
   "metadata": {},
   "source": [
    "We just *defined* a variable by assigning a value. Now we can use it."
   ]
  },
  {
   "cell_type": "code",
   "execution_count": 15,
   "metadata": {},
   "outputs": [
    {
     "data": {
      "text/plain": [
       "10.0"
      ]
     },
     "execution_count": 15,
     "metadata": {},
     "output_type": "execute_result"
    }
   ],
   "source": [
    "x/10"
   ]
  },
  {
   "cell_type": "code",
   "execution_count": 16,
   "metadata": {},
   "outputs": [
    {
     "data": {
      "text/plain": [
       "102"
      ]
     },
     "execution_count": 16,
     "metadata": {},
     "output_type": "execute_result"
    }
   ],
   "source": [
    "x+2"
   ]
  },
  {
   "cell_type": "markdown",
   "metadata": {},
   "source": [
    "### Naming variables\n",
    "Python variable names:\n",
    "- can contain letters, numbers and underscores\n",
    "- can NOT start with a number\n",
    "- are case sensitive (example_Variable vs example_variable)\n",
    "\n",
    "Variable names should be **descriptive** (but not too long, otherwise your code will look very complicated) \n",
    "- number_of_all_cells -> cell_num\n"
   ]
  },
  {
   "cell_type": "markdown",
   "metadata": {},
   "source": [
    "<a name=\"err\"></a>\n",
    "## Errors\n",
    "\n",
    "We are all human. Sometimes we might write incorrect code and python might inform this to us by producing an error. These errors also contain messages that explain what went wrong while python was executing your code.\n"
   ]
  },
  {
   "cell_type": "code",
   "execution_count": 17,
   "metadata": {},
   "outputs": [
    {
     "ename": "NameError",
     "evalue": "name 'y' is not defined",
     "output_type": "error",
     "traceback": [
      "\u001b[0;31m---------------------------------------------------------------------------\u001b[0m",
      "\u001b[0;31mNameError\u001b[0m                                 Traceback (most recent call last)",
      "\u001b[0;32m<ipython-input-17-f57a92f8cef0>\u001b[0m in \u001b[0;36m<module>\u001b[0;34m\u001b[0m\n\u001b[0;32m----> 1\u001b[0;31m \u001b[0mprint\u001b[0m\u001b[0;34m(\u001b[0m\u001b[0my\u001b[0m\u001b[0;34m)\u001b[0m\u001b[0;34m\u001b[0m\u001b[0;34m\u001b[0m\u001b[0m\n\u001b[0m\u001b[1;32m      2\u001b[0m \u001b[0my\u001b[0m \u001b[0;34m=\u001b[0m \u001b[0;36m10\u001b[0m\u001b[0;34m\u001b[0m\u001b[0;34m\u001b[0m\u001b[0m\n",
      "\u001b[0;31mNameError\u001b[0m: name 'y' is not defined"
     ]
    }
   ],
   "source": [
    "print(y)\n",
    "y = 10"
   ]
  },
  {
   "cell_type": "markdown",
   "metadata": {},
   "source": [
    "These messages are composed in a logical way, :\n",
    "1. What is the **type of error** (<font color=red>NameError</font>)\n",
    "2. **Where (which file)** the error occured (in our case this is not useful)\n",
    "4. **Which line** has the error producing code\n",
    "4. **Why** there was an error\n",
    "\n",
    "### Exercise: \n",
    "Investigate our previous error message and find the corresponding error components. Fill the cell below with your answers.\n",
    "\n"
   ]
  },
  {
   "cell_type": "markdown",
   "metadata": {},
   "source": [
    "Error type:\n",
    "\n",
    "File: Just skip this since we have only this file.\n",
    "\n",
    "Line:\n",
    "\n",
    "Reason:"
   ]
  },
  {
   "cell_type": "markdown",
   "metadata": {},
   "source": [
    "<a name=\"datype\"></a>\n",
    "## Data types\n",
    "\n",
    "Data are of different types.\n",
    "\n",
    "For example: Data that contain names would consist of characters and data that contain ages would consist of numbers. \n",
    "\n",
    "Python's most common data types are:\n",
    "\n",
    "#### For numbers:\n",
    "- [integers](#calculator) (for storing integers e.g. 2)\n",
    "\n",
    "\n",
    "- [floats](#calculator) (for storing numbers with fractions e.g. 1.0025)\n",
    "\n",
    "#### For characters (text):\n",
    "- [strings](#calculator) \n",
    "\n",
    "#### For logicals (1, 0 - True, False):\n",
    "- [booleans](#calculator) (binary data: True or False) \n",
    "\n",
    "#### For multiple data points:\n",
    "- [lists](#calculator) (for storing more than 1 data point)\n",
    "\n",
    "\n",
    "- [tuples](#calculator)\n",
    "\n",
    "\n",
    "- [dictionaries](#calculator) (for storing pairs e.g. \"age\":27)\n"
   ]
  },
  {
   "cell_type": "markdown",
   "metadata": {},
   "source": [
    "### Integers"
   ]
  },
  {
   "cell_type": "code",
   "execution_count": null,
   "metadata": {},
   "outputs": [],
   "source": []
  },
  {
   "cell_type": "code",
   "execution_count": null,
   "metadata": {},
   "outputs": [],
   "source": []
  },
  {
   "cell_type": "code",
   "execution_count": null,
   "metadata": {},
   "outputs": [],
   "source": []
  },
  {
   "cell_type": "code",
   "execution_count": null,
   "metadata": {},
   "outputs": [],
   "source": []
  },
  {
   "cell_type": "code",
   "execution_count": null,
   "metadata": {},
   "outputs": [],
   "source": []
  }
 ],
 "metadata": {
  "kernelspec": {
   "display_name": "Python 3",
   "language": "python",
   "name": "python3"
  },
  "language_info": {
   "codemirror_mode": {
    "name": "ipython",
    "version": 3
   },
   "file_extension": ".py",
   "mimetype": "text/x-python",
   "name": "python",
   "nbconvert_exporter": "python",
   "pygments_lexer": "ipython3",
   "version": "3.8.1"
  }
 },
 "nbformat": 4,
 "nbformat_minor": 4
}
