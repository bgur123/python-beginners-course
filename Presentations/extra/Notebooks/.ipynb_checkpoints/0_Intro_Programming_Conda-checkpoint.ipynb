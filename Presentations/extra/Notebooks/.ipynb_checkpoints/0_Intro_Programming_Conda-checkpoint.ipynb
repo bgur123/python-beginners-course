{
 "cells": [
  {
   "cell_type": "markdown",
   "metadata": {},
   "source": [
    "# Boost your python with Anaconda and Jupyter Notebooks\n",
    "\n",
    "In this section we will see why we might want to work with Anaconda and notebooks.\n",
    "\n",
    "## Contents\n",
    "\n",
    "###  [1. **Anaconda**: Boost your python](#Anaconda)\n",
    "\n",
    "### [2. **Jupyter Notebook**: A platform for writing and working with Python.](#Jupyter)\n"
   ]
  },
  {
   "cell_type": "markdown",
   "metadata": {},
   "source": [
    "## Anaconda <a name=\"Anaconda\"></a>\n",
    "\n",
    "<img src=\"../../Content/Media/anaconda.png\" style=\"width: 300px\">  \n",
    "### What is it?\n",
    "Anaconda is a python and R distribution (a collection of programs written in python and R). It provides you with almost everything you need for scientific computing.\n",
    "\n",
    "### What does it contain?\n",
    "\n",
    "- The core **Python language**\n",
    "\n",
    "\n",
    "- 100+ Python **\"packages\"** (or **libraries** which are collections of codes that someone wrote for achieving a certain set of tasks)\n",
    "\n",
    "\n",
    "- Apps where you can write and run code. These are called **\"IDE\"s** (Integrated Development Environment). The one we will use is **Jupyter Notebook**.\n",
    "\n",
    "\n",
    "- **conda**, Anaconda's own package manager, used for updating Anaconda and packages. A package manager lets you **download, store and organize** packages very easily. \n",
    "\n",
    "     \n",
    "\n",
    "### Summary: **Anaconda is the most convenient way to start and use python for scientists.**\n"
   ]
  },
  {
   "cell_type": "markdown",
   "metadata": {},
   "source": [
    "## Jupyter Notebook <a name=\"Jupyter\"></a>\n",
    "\n",
    "<img src=\"../../Content/Media/jupyter.png\" style=\"width: 200px\">  \n",
    "\n",
    "The so called \"Jupyter Notebook\" app allows us to write formatted text together with executable code. We can do this dynamically so we can observe how a written script is developed sequentially. Throughout our course, we will be working on Jupyter Notebook. We will learn more about it later."
   ]
  },
  {
   "cell_type": "markdown",
   "metadata": {},
   "source": [
    "### Okay then, let's get started:\n",
    "# [Installation instructions for Anaconda and Jupyter notebook](Conda_Installation.html)\n",
    "\n"
   ]
  }
 ],
 "metadata": {
  "kernelspec": {
   "display_name": "Python 3",
   "language": "python",
   "name": "python3"
  },
  "language_info": {
   "codemirror_mode": {
    "name": "ipython",
    "version": 3
   },
   "file_extension": ".py",
   "mimetype": "text/x-python",
   "name": "python",
   "nbconvert_exporter": "python",
   "pygments_lexer": "ipython3",
   "version": "3.7.3"
  }
 },
 "nbformat": 4,
 "nbformat_minor": 2
}
