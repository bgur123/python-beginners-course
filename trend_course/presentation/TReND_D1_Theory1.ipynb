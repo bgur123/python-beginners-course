{
  "nbformat": 4,
  "nbformat_minor": 0,
  "metadata": {
    "colab": {
      "name": "TReND_D1_Theory1.ipynb",
      "provenance": [],
      "collapsed_sections": [
        "CpmMXtvdmvlp",
        "kMY4A4FRmvl6",
        "DxVKoiObmvmC",
        "7-YTtGQlmvmG",
        "FWbDIxwXmvmO",
        "V734qOpGmvmo"
      ],
      "toc_visible": true
    },
    "kernelspec": {
      "display_name": "Python 3",
      "language": "python",
      "name": "python3"
    },
    "language_info": {
      "codemirror_mode": {
        "name": "ipython",
        "version": 3
      },
      "file_extension": ".py",
      "mimetype": "text/x-python",
      "name": "python",
      "nbconvert_exporter": "python",
      "pygments_lexer": "ipython3",
      "version": "3.7.3"
    }
  },
  "cells": [
    {
      "cell_type": "markdown",
      "metadata": {
        "id": "v7iSv_lkmbHw"
      },
      "source": [
        "# TReND Python Course: Day 1, Theory 1\n",
        "# Colab & Python intro\n",
        "\n",
        "__Content creators:__ Foutse Yuehgoh & Burak Gür"
      ]
    },
    {
      "cell_type": "markdown",
      "metadata": {
        "id": "ZmdGe6p8emMi"
      },
      "source": [
        "## Learning objectives\n",
        "\n",
        "- [Colab - Getting comfortable](#Colab)\n",
        "\n",
        "\n",
        "- [Python - What & Why?](#Python-what-why)\n",
        "\n",
        "- [Programming with python](#Programming)\n",
        "    - Calculations\n",
        "    - Working with data -> variables\n",
        "    - Data types "
      ]
    },
    {
      "cell_type": "markdown",
      "metadata": {
        "id": "T_iQjBBimvjl"
      },
      "source": [
        "<a name=\"Colab\"></a>\n",
        "# Working with python notebooks using Google Colab\n",
        "\n",
        "\n",
        "\n"
      ]
    },
    {
      "cell_type": "markdown",
      "metadata": {
        "id": "aE0-j76wAoUi"
      },
      "source": [
        "# **Brief history:**"
      ]
    },
    {
      "cell_type": "markdown",
      "metadata": {
        "id": "jFCab6RY63Cu"
      },
      "source": [
        "\n",
        "*   **Python:** [Python](https://www.python.org/) is a popular programming languag created by Guido van Rossum, and released in 1991. It is a powerful interpreted high-level general-purpose programming language with simple easy-to-use syntax. Python is commonly used in web development (server-side), mathematics, system scripting, data science, creating software prototypes, and so on. Its high-level built in data structures, combined with dynamic typing and dynamic binding, make it very attractive for Rapid Application Development, as well as for use as a scripting or glue language to connect existing components together. Python supports modules and packages, which encourages program modularity and code reuse. The Python interpreter and the extensive standard library are available in source or binary form without charge for all major platforms, and can be freely distributed.\n",
        "*   **Colaboratory (Colab):** [Colab](https://colab.research.google.com/notebooks/intro.ipynb#recent=true) is a free Google Research product, that allows anyone to write and run Python code of their choice through a browser. In more technical terms, Colab is a hosted Jupyter notebook service that requires no configuration and provides free access to computing resources (limited), including built-in GPU and TPU. Colab allows you to use and share Jupyter notebooks with other people, without the need to download, install or run anything. Colab notebooks are stored in Google Drive and can also be uploaded from GitHub. They can be shared just as one would share Google Docs or Sheets documents. \n",
        "\n",
        "\n",
        "\n",
        "\n",
        "\n"
      ]
    },
    {
      "cell_type": "markdown",
      "metadata": {
        "id": "y0X7P87s_-RD"
      },
      "source": [
        "# **Colab notebook tips:**"
      ]
    },
    {
      "cell_type": "markdown",
      "metadata": {
        "id": "C93oXGVUAMQS"
      },
      "source": [
        "*   If you choose to share a notebook, all of its content (text, code, output, and comments) will be shared. You can block content from being saved or shared as output from code cells by doing, select ***Edit> Notebook settings>*** Omit **output item** from code cells when registering this notebook.\n",
        "*   The virtual machine you are using, including any custom files and libraries you configured, will not be shared. It is, therefore, recommended that you include cells that install and load the libraries or custom files needed by your notebook.\n",
        "\n",
        "\n",
        "*   To search for Colab notebooks, use Google Drive. Click on the Colab logo in the upper left corner of the notebook to view all notebooks in Google Drive. You can also find notebooks that you have recently opened in ***File> Open Notebook***.\n",
        "*   Your code is executed on a virtual machine specific to your account. Virtual machines are deleted when they are inactive for a certain time and have a maximum lifetime imposed by the Colab service. Select ***Run> Reset Runtime Environment*** to restore all virtual machines assigned to you to their original state. This can be useful in cases where a virtual machine is no longer functional, for example, due to accidental replacement of system files or the installation of incompatible software. Colab limits the frequency of such resets to avoid excessive consumption of resources.\n",
        "\n",
        "\n",
        "\n",
        "*   Various limits are applied in Google Drive, such as the number of operations performed (per user and per file) and bandwidth quotas. Exceeding these limits triggers an Input/output error and the display of a notification in the Colab user interface. This scenario usually occurs when trying to access a popular shared file, or too many separate files too suddenly. You can work around the problem by using the following methods:\n",
        "         \n",
        "      - Copy the file through drive.google.com and avoid large-scale sharing, so that other users don't hit the limits that apply to it.\n",
        "      - Avoid performing many small I/O read operations. Favor copying data from Drive to the Colab VM in an archive format (for example, .zip or .tar.gz) and unarchive the data locally on the VM rather than in the installed Drive directory.\n",
        "      - Wait a day for the quota limits to reset.\n",
        "      \n",
        "[Read more](https://research.google.com/colaboratory/intl/en-GB/faq.html)\n",
        "\n",
        "---\n",
        "\n",
        "\n",
        "\n",
        "\n",
        "\n",
        "\n",
        "\n",
        "\n",
        "\n",
        "\n"
      ]
    },
    {
      "cell_type": "markdown",
      "metadata": {
        "id": "V6-2c5EBl8Gy"
      },
      "source": [
        "### Python notebooks\n",
        "This is a python notebook (officially called a *Jupyter notebook* or an *IPython notebook* --> with the extension \".ipynb\"), which is a basically just a super fancy way of writing python code.\n",
        "  - We can write formatted **text together with executable code**.\n",
        "\n",
        "  - Allows **rapid development** of python code by writing small bits and testing them.\n",
        "\n",
        "  - We can **easily share** our code with others and they can run it without problems."
      ]
    },
    {
      "cell_type": "markdown",
      "metadata": {
        "id": "c2l6huOtl2C7"
      },
      "source": [
        "### Colaboratory (Colab)\n",
        "Colab allows us to take a Jupyter notebook and lets us **edit/use/share** it **easy and free!** \n",
        "\n",
        "Additionally:\n",
        "\n",
        "  - Runs on the **Google Cloud** - doesn't depend much on your computer capabilities.\n",
        "  \n",
        "  - Has many pre-installed packages. **Zero configuration!**\n",
        "\n",
        "  \n",
        "  - Run code super fast --> **GPU usage** is provided free of charge for some hours of usage every day. \n",
        "\n",
        " \n",
        "\n"
      ]
    },
    {
      "cell_type": "markdown",
      "metadata": {
        "id": "YybfaVyJm_K1"
      },
      "source": [
        "For example, to run a code, just hover the mouse over ```[ ]``` and press the play button to the upper left. Or press **shift-enter to execute**.\n",
        "\n",
        "- Below we have a code, just run it without trying to understand."
      ]
    },
    {
      "cell_type": "code",
      "metadata": {
        "id": "euJ73YDJnCvW",
        "colab": {
          "base_uri": "https://localhost:8080/"
        },
        "outputId": "d7a706f3-0a16-49d5-bc5e-6e1b849be4dc"
      },
      "source": [
        "print ('Hello World')"
      ],
      "execution_count": null,
      "outputs": [
        {
          "output_type": "stream",
          "text": [
            "Hello World\n"
          ],
          "name": "stdout"
        }
      ]
    },
    {
      "cell_type": "markdown",
      "metadata": {
        "id": "IgVNFoJtnEt5"
      },
      "source": [
        "Great! Let's move on to working with Python."
      ]
    },
    {
      "cell_type": "markdown",
      "metadata": {
        "id": "j9103reyhGX1"
      },
      "source": [
        "---\n",
        "<a name=\"Python-what-why\"></a>\n",
        "# Python - What & Why?"
      ]
    },
    {
      "cell_type": "markdown",
      "metadata": {
        "id": "Xw6BThRTNjqu"
      },
      "source": [
        "#What can Python do?\n",
        "\n",
        "---\n",
        "\n",
        "\n",
        "* Python can be used on a server to create web applications.\n",
        "* Python can be used alongside software to create workflows.\n",
        "* Python can connect to database systems. It can also read and modify files.\n",
        "* Python can be used to handle big data and perform complex mathematics.\n",
        "* Python can be used for rapid prototyping, or for production-ready software development.\n",
        "\n",
        "\n",
        "#Why Python?\n",
        "\n",
        "---\n",
        "\n",
        "\n",
        "* Python works on different platforms (Windows, Mac, Linux, Raspberry Pi, etc).\n",
        "* Python has a simple syntax similar to the English language.\n",
        "* Python has syntax that allows developers to write programs with fewer lines than some other programming languages.\n",
        "* Python runs on an interpreter system, meaning that code can be executed as soon as it is written. This means that prototyping can be very quick.\n",
        "* Python can be treated in a procedural way, an object-oriented way or a functional way.\n",
        "\n",
        "**Resources:**\n",
        "* [Programiz](https://www.programiz.com/python-programming)\n",
        "* [datacamp](https://learn.datacamp.com/courses/tech:python?utm_source=adwords_ppc&utm_campaignid=654038607&utm_adgroupid=54278411964&utm_device=c&utm_keyword=%2Blanguage%20%2Bpython%20%2Bprogramming&utm_matchtype=b&utm_network=g&utm_adpostion=&utm_creative=262582850841&utm_targetid=aud-299261629574:kwd-552072783517&utm_loc_interest_ms=&utm_loc_physical_ms=9056331&gclid=Cj0KCQjw5auGBhDEARIsAFyNm9FAWR3dZV833urTsgggqq0lAaMk6BRXg9CsS2bhaNo34H5aNPM6uk0aAiaaEALw_wcB)\n",
        "* [W3schools](https://www.w3schools.com/python/python_intro.asp)\n",
        "* [Coursera](https://www.coursera.org/specializations/python?utm_source=gg&utm_medium=sem&utm_campaign=06-PythonforEverybody-ROW&utm_content=06-PythonforEverybody-ROW&campaignid=6493101579&adgroupid=83560622768&device=c&keyword=python%20tutorial%20for%20beginners&matchtype=b&network=g&devicemodel=&adpostion=&creativeid=506843632505&hide_mobile_promo&gclid=Cj0KCQjw5auGBhDEARIsAFyNm9FM0o1tEpibGYE-1M2LQmlv2ctyf50caHOHA20YFVZe14CWMRV6xiUaAgMeEALw_wcB)\n"
      ]
    },
    {
      "cell_type": "markdown",
      "metadata": {
        "id": "92PK39IwnV4P"
      },
      "source": [
        "## Why programming and why with Python?\n",
        "\n",
        "1. Asking why people want to use programming -> makes the course a bit interactive and interesting\n",
        "  - We can do this with a web survey app \n",
        "\n",
        "2. Coming from their examples, explaining why programming is useful. For example maybe something like [this](https://nbviewer.jupyter.org/github/bgur123/python-sbeginners-course/blob/master/Presentations/extra/0_Intro_Programming.ipynb) but with more general examples and maybe some interactive parts?  "
      ]
    },
    {
      "cell_type": "markdown",
      "metadata": {
        "id": "zGfLrtTthMci"
      },
      "source": [
        "---\n",
        "<a name=\"Programming\"></a>\n",
        "# Programming with Python"
      ]
    },
    {
      "cell_type": "markdown",
      "metadata": {
        "id": "hVWtWsJgmvj3"
      },
      "source": [
        "\n",
        "\n",
        "### Overview:\n",
        "#### - [Python as a calculator](#calculator)\n",
        "#### - [Variables](#var)\n",
        "#### - [Errors](#err) \n",
        "#### - [Data types](#datype)\n",
        "- For single data points\n",
        "    - [**integers**](#int) - for numbers without decimals\n",
        "    - [**floats**](#float) - for numbers with decimals\n",
        "    - [**strings**](#str) - for characters, words etc.\n",
        "    - [**booleans**](#bool) - for binary (True or False, 1 or 0)\n",
        "- For multiple data points - to be covered later in the course.\n",
        "    \n",
        "#### - [Type conversions](#type_conv)\n",
        "\n"
      ]
    },
    {
      "cell_type": "markdown",
      "metadata": {
        "id": "5hpGUfNHmvj6"
      },
      "source": [
        "<a name=\"calculator\"></a>\n",
        "## Python as a calculator\n",
        "Python can be used as a calculator. And basic mathematical operations can be easily done using **python operators** (pre defined symbols for doing operations between values or variables). \n",
        "\n",
        "| Operator | Name    |\n",
        "|------|------|\n",
        "|```+```  | Addition|\n",
        "|```-```  | Subtraction|\n",
        "|```*```  | Multiplication|\n",
        "|```/```  | Division|\n",
        "|```**```  | Exponentiation|\n",
        "|```%```  | Modulus|\n"
      ]
    },
    {
      "cell_type": "code",
      "metadata": {
        "id": "Mpz8g_Epmvj7",
        "outputId": "cd2fa13c-3788-498c-88c1-0f055a6c460b"
      },
      "source": [
        "1+5"
      ],
      "execution_count": null,
      "outputs": [
        {
          "output_type": "execute_result",
          "data": {
            "text/plain": [
              "6"
            ]
          },
          "metadata": {
            "tags": []
          },
          "execution_count": 2
        }
      ]
    },
    {
      "cell_type": "code",
      "metadata": {
        "id": "wGxpNEnxmvkC",
        "outputId": "a5859f9d-0156-4d7a-d740-0c48dcecd471"
      },
      "source": [
        "2*3"
      ],
      "execution_count": null,
      "outputs": [
        {
          "output_type": "execute_result",
          "data": {
            "text/plain": [
              "6"
            ]
          },
          "metadata": {
            "tags": []
          },
          "execution_count": 3
        }
      ]
    },
    {
      "cell_type": "code",
      "metadata": {
        "id": "imE1JikBmvkJ",
        "outputId": "8fe24d0a-1727-4c69-aadb-c9751b8d2aac"
      },
      "source": [
        "2**3"
      ],
      "execution_count": null,
      "outputs": [
        {
          "output_type": "execute_result",
          "data": {
            "text/plain": [
              "8"
            ]
          },
          "metadata": {
            "tags": []
          },
          "execution_count": 4
        }
      ]
    },
    {
      "cell_type": "code",
      "metadata": {
        "id": "3ZwWfEqRmvkQ",
        "outputId": "eb8d64a1-3b80-4de5-9b90-4c7eb73f6c9c"
      },
      "source": [
        "100%24"
      ],
      "execution_count": null,
      "outputs": [
        {
          "output_type": "execute_result",
          "data": {
            "text/plain": [
              "4"
            ]
          },
          "metadata": {
            "tags": []
          },
          "execution_count": 5
        }
      ]
    },
    {
      "cell_type": "markdown",
      "metadata": {
        "id": "-UHXB6RXmvkW"
      },
      "source": [
        "The **order** of operations is important.\n",
        "\n",
        "Use parantheses ```()``` to define order of operations.\n",
        "\n"
      ]
    },
    {
      "cell_type": "markdown",
      "metadata": {
        "id": "TTaK_UGTIrHg"
      },
      "source": [
        "Add 3 to 5 and divide by 4 -> result is 2"
      ]
    },
    {
      "cell_type": "code",
      "metadata": {
        "id": "-6T__qfzmvkX",
        "colab": {
          "base_uri": "https://localhost:8080/"
        },
        "outputId": "7690fd93-7b1a-44d0-e325-ea4b315bdec9"
      },
      "source": [
        "3+5/4"
      ],
      "execution_count": 16,
      "outputs": [
        {
          "output_type": "execute_result",
          "data": {
            "text/plain": [
              "4.25"
            ]
          },
          "metadata": {
            "tags": []
          },
          "execution_count": 16
        }
      ]
    },
    {
      "cell_type": "code",
      "metadata": {
        "id": "rwfpOBEjmvke",
        "colab": {
          "base_uri": "https://localhost:8080/"
        },
        "outputId": "b08e57ef-7257-4681-b3b2-fe66d7890713"
      },
      "source": [
        "(3+5)/4"
      ],
      "execution_count": 17,
      "outputs": [
        {
          "output_type": "execute_result",
          "data": {
            "text/plain": [
              "2.0"
            ]
          },
          "metadata": {
            "tags": []
          },
          "execution_count": 17
        }
      ]
    },
    {
      "cell_type": "markdown",
      "metadata": {
        "id": "ev_65pkpNCOA"
      },
      "source": [
        "### Bonus: Seeing our results with ```print()``` function\n",
        "When we write multiple lines of code that contain operations, we can just see the result of our last operation.\n",
        "\n"
      ]
    },
    {
      "cell_type": "code",
      "metadata": {
        "colab": {
          "base_uri": "https://localhost:8080/"
        },
        "id": "P11zbX2qPG7W",
        "outputId": "e771275c-8da9-498b-d205-7cc6211593a9"
      },
      "source": [
        "3+3\n",
        "3+2"
      ],
      "execution_count": 27,
      "outputs": [
        {
          "output_type": "execute_result",
          "data": {
            "text/plain": [
              "5"
            ]
          },
          "metadata": {
            "tags": []
          },
          "execution_count": 27
        }
      ]
    },
    {
      "cell_type": "markdown",
      "metadata": {
        "id": "dUi6u71eW5Xj"
      },
      "source": [
        "To see stuff after running our code, we can use the ```print()``` function of python:"
      ]
    },
    {
      "cell_type": "code",
      "metadata": {
        "colab": {
          "base_uri": "https://localhost:8080/"
        },
        "id": "JHSpihNEPL1W",
        "outputId": "deebf2a8-dcdd-4e02-fb4b-a3d2b3a31fc8"
      },
      "source": [
        "print(3+3)\n",
        "print(3+2)"
      ],
      "execution_count": 29,
      "outputs": [
        {
          "output_type": "stream",
          "text": [
            "6\n",
            "5\n"
          ],
          "name": "stdout"
        }
      ]
    },
    {
      "cell_type": "markdown",
      "metadata": {
        "id": "IYlx2-ijmvkk"
      },
      "source": [
        "But we don't just want to see stuff, we want to store our results and work with them."
      ]
    },
    {
      "cell_type": "markdown",
      "metadata": {
        "id": "omzbU-4amvkk"
      },
      "source": [
        "<a name=\"var\"></a>\n",
        "## Storing data: Variables\n",
        "\n",
        "Variables are used to **store** data (also known as **value** in programming) of any sort. \n",
        "\n",
        "You can think of them as a depot where you put data inside:\n",
        "\n",
        "<img src=\"https://github.com/bgur123/python-beginners-course/blob/master/trend_course/images/var1.svg?raw=1\" width =\"200px\">\n",
        "\n",
        "\n",
        "\n"
      ]
    },
    {
      "cell_type": "markdown",
      "metadata": {
        "id": "rTeyPbr8IOmy"
      },
      "source": [
        "### Creating variables: Assignments\n",
        "Variables are created with an assignment statement. The syntax (kind of grammar) of variable assignment is:\n",
        "\n",
        "```variable_name = a value``` (or an expression e.g., ```1+1```)"
      ]
    },
    {
      "cell_type": "code",
      "metadata": {
        "id": "pAa5_9YQmvkl"
      },
      "source": [
        "age = 29 \n",
        "name = \"Burak\"\n",
        "height_cm = 183 "
      ],
      "execution_count": 18,
      "outputs": []
    },
    {
      "cell_type": "markdown",
      "metadata": {
        "id": "EmhSSvbHmvkq"
      },
      "source": [
        "<img src=\"https://github.com/bgur123/python-beginners-course/blob/master/trend_course/images/var2.svg?raw=1\" width =\"600px\">\n",
        "\n",
        "\n",
        "We just *defined* variables by assigning values to each of them. Now we can use them.\n",
        "\n",
        "What is my height in feets? **1 feet = 30.48 cm**"
      ]
    },
    {
      "cell_type": "code",
      "metadata": {
        "id": "MGvXQ3jYmvkr",
        "colab": {
          "base_uri": "https://localhost:8080/"
        },
        "outputId": "340ac1e3-c738-4513-91bf-a0ec05aa9b6f"
      },
      "source": [
        "height_feet = height_cm / 30.48\n",
        "print(\"height_feet is:\",height_feet)"
      ],
      "execution_count": 15,
      "outputs": [
        {
          "output_type": "stream",
          "text": [
            "height_feet is: 6.003937007874016\n"
          ],
          "name": "stdout"
        }
      ]
    },
    {
      "cell_type": "markdown",
      "metadata": {
        "id": "b-i-enJqGD7k"
      },
      "source": [
        "<img src=\"https://github.com/bgur123/python-beginners-course/blob/master/trend_course/images/var3.svg?raw=1\" width =\"600px\">"
      ]
    },
    {
      "cell_type": "markdown",
      "metadata": {
        "id": "e5hYboOpJBCD"
      },
      "source": [
        "### Bonus: Commenting on code\n",
        "We can add some text to our code to inform/remind ourselves or others:\n",
        "- what our code is doing\n",
        "- why it is doing this particular thing. (more important than what)"
      ]
    },
    {
      "cell_type": "code",
      "metadata": {
        "id": "SpStSgS8JzVq"
      },
      "source": [
        "height_feet = height_cm / 30.48 # 1 foot is 30.48 cm\n",
        "print(\"height_feet is:\",height_feet)"
      ],
      "execution_count": null,
      "outputs": []
    },
    {
      "cell_type": "markdown",
      "metadata": {
        "id": "ky6xeYgQHWLY"
      },
      "source": [
        "### Changing variables\n",
        "When you use variables in other assignments or operations, they don't change!\n"
      ]
    },
    {
      "cell_type": "code",
      "metadata": {
        "colab": {
          "base_uri": "https://localhost:8080/"
        },
        "id": "Mg9SsyR-Hj5G",
        "outputId": "8f6277fc-4a7b-4f6f-b16d-0b7d6d5cc301"
      },
      "source": [
        "half_height = height_cm / 2\n",
        "print(\"height_cm is:\",height_cm)\n",
        "print(\"half_height is:\",half_height)"
      ],
      "execution_count": 23,
      "outputs": [
        {
          "output_type": "stream",
          "text": [
            "height_cm is: 183\n",
            "half_height is: 91.5\n"
          ],
          "name": "stdout"
        }
      ]
    },
    {
      "cell_type": "markdown",
      "metadata": {
        "id": "7UwzxQZuQAig"
      },
      "source": [
        "To change variables, we need to assign them again."
      ]
    },
    {
      "cell_type": "code",
      "metadata": {
        "colab": {
          "base_uri": "https://localhost:8080/"
        },
        "id": "v0MRV_IKMrZ4",
        "outputId": "6b25b6f1-b5b1-4461-f87c-cf39d02cdc81"
      },
      "source": [
        "height_cm = 160\n",
        "print(\"height_cm is:\",height_cm)"
      ],
      "execution_count": 30,
      "outputs": [
        {
          "output_type": "stream",
          "text": [
            "height_cm is: 160\n"
          ],
          "name": "stdout"
        }
      ]
    },
    {
      "cell_type": "markdown",
      "metadata": {
        "id": "vKtBd1_-mvk0"
      },
      "source": [
        "### Naming variables\n",
        "Python variable names:\n",
        "- can contain letters, numbers and underscores\n",
        "- can NOT start with a number\n",
        "- are case sensitive (```age``` vs ```Age```)\n",
        "\n",
        "Suggestion: Variable names should be **concise** (short but informative): \n",
        "\n",
        "- ```my_telephone_number``` -> ```phone_num```\n",
        "- ```p_n``` -> ```phone_num```\n"
      ]
    },
    {
      "cell_type": "markdown",
      "metadata": {
        "id": "QQ5Hhh-dmvlP"
      },
      "source": [
        "### Checking - deleting variables\n",
        "Now we have defined several varibles in the previous cells. These are stored in our **workspace**\n",
        "\n",
        "write ```whos``` to check which variables we have in our current workspace."
      ]
    },
    {
      "cell_type": "code",
      "metadata": {
        "id": "RHF-SO5XmvlQ",
        "colab": {
          "base_uri": "https://localhost:8080/"
        },
        "outputId": "09ce2ab7-f53c-42d4-8d39-d0c787288b78"
      },
      "source": [
        "whos"
      ],
      "execution_count": 37,
      "outputs": [
        {
          "output_type": "stream",
          "text": [
            "Variable      Type     Data/Info\n",
            "--------------------------------\n",
            "Age           int      1\n",
            "a             int      2\n",
            "age           int      29\n",
            "age_months    int      348\n",
            "age_years     int      29\n",
            "b             int      4\n",
            "birthyear     int      1992\n",
            "half_height   float    91.5\n",
            "height_cm     int      160\n",
            "height_feet   float    6.003937007874016\n",
            "name          str      Burak\n"
          ],
          "name": "stdout"
        }
      ]
    },
    {
      "cell_type": "markdown",
      "metadata": {
        "id": "nkIG6WQKmvlV"
      },
      "source": [
        "We can erase them using ```%reset```"
      ]
    },
    {
      "cell_type": "code",
      "metadata": {
        "id": "iFJ51Z4vmvlW",
        "colab": {
          "base_uri": "https://localhost:8080/"
        },
        "outputId": "7268ad21-7740-430e-c00c-7aedb011e4af"
      },
      "source": [
        "%reset"
      ],
      "execution_count": 38,
      "outputs": [
        {
          "output_type": "stream",
          "text": [
            "Once deleted, variables cannot be recovered. Proceed (y/[n])? y\n"
          ],
          "name": "stdout"
        }
      ]
    },
    {
      "cell_type": "code",
      "metadata": {
        "id": "zxl9L3oSmvlZ",
        "colab": {
          "base_uri": "https://localhost:8080/"
        },
        "outputId": "cfdb98a2-a619-4a7e-aa55-b5eaf355f984"
      },
      "source": [
        "whos"
      ],
      "execution_count": 39,
      "outputs": [
        {
          "output_type": "stream",
          "text": [
            "Interactive namespace is empty.\n"
          ],
          "name": "stdout"
        }
      ]
    },
    {
      "cell_type": "markdown",
      "metadata": {
        "id": "CSykGqfbmvk1"
      },
      "source": [
        "<a name=\"err\"></a>\n",
        "## Errors\n",
        "\n",
        "We are all human. Sometimes we might write incorrect code and python can inform this to us by producing an error. These errors also contain messages that explain what went wrong while python was executing your code.\n"
      ]
    },
    {
      "cell_type": "code",
      "metadata": {
        "id": "oqw25mWzmvk2",
        "outputId": "10fb995c-d77b-4d7d-ff05-d00cde5c0109"
      },
      "source": [
        "print(y)\n",
        "y = 10"
      ],
      "execution_count": null,
      "outputs": [
        {
          "output_type": "error",
          "ename": "NameError",
          "evalue": "name 'y' is not defined",
          "traceback": [
            "\u001b[0;31m-------------------------------------------------------------------\u001b[0m",
            "\u001b[0;31mNameError\u001b[0m                         Traceback (most recent call last)",
            "\u001b[0;32m<ipython-input-11-f57a92f8cef0>\u001b[0m in \u001b[0;36m<module>\u001b[0;34m\u001b[0m\n\u001b[0;32m----> 1\u001b[0;31m \u001b[0mprint\u001b[0m\u001b[0;34m(\u001b[0m\u001b[0my\u001b[0m\u001b[0;34m)\u001b[0m\u001b[0;34m\u001b[0m\u001b[0;34m\u001b[0m\u001b[0m\n\u001b[0m\u001b[1;32m      2\u001b[0m \u001b[0my\u001b[0m \u001b[0;34m=\u001b[0m \u001b[0;36m10\u001b[0m\u001b[0;34m\u001b[0m\u001b[0;34m\u001b[0m\u001b[0m\n",
            "\u001b[0;31mNameError\u001b[0m: name 'y' is not defined"
          ]
        }
      ]
    },
    {
      "cell_type": "markdown",
      "metadata": {
        "id": "EQssVClomvk8"
      },
      "source": [
        "\n",
        "These messages are composed in a logical way, :\n",
        "1. What is the **type of error** (<font color=red>NameError</font>) -> [More on error types here](https://docs.python.org/3/tutorial/errors.html)\n",
        "2. **Where (which file)** the error occured (in our case this is not useful because we just have this file)\n",
        "4. **Which line** has the error producing code\n",
        "4. **Why** there was an error\n",
        "\n",
        "\n"
      ]
    },
    {
      "cell_type": "markdown",
      "metadata": {
        "id": "Ca-jw96nSV8Y"
      },
      "source": [
        "<a name=\"errorex\"></a>\n",
        "#### Practice: \n",
        "Investigate the next error message and find the corresponding error components. Fill the cell below with your answers."
      ]
    },
    {
      "cell_type": "code",
      "metadata": {
        "colab": {
          "base_uri": "https://localhost:8080/",
          "height": 246
        },
        "id": "rRCxS27mSWz5",
        "outputId": "c4327c7a-6eb2-4c86-8ed6-00c883372986"
      },
      "source": [
        "age_years = 29\n",
        "age_months = age_years * 12\n",
        "print(age_days)"
      ],
      "execution_count": 33,
      "outputs": [
        {
          "output_type": "error",
          "ename": "NameError",
          "evalue": "ignored",
          "traceback": [
            "\u001b[0;31m---------------------------------------------------------------------------\u001b[0m",
            "\u001b[0;31mNameError\u001b[0m                                 Traceback (most recent call last)",
            "\u001b[0;32m<ipython-input-33-186bb921af33>\u001b[0m in \u001b[0;36m<module>\u001b[0;34m()\u001b[0m\n\u001b[1;32m      1\u001b[0m \u001b[0mage_years\u001b[0m \u001b[0;34m=\u001b[0m \u001b[0;36m29\u001b[0m\u001b[0;34m\u001b[0m\u001b[0;34m\u001b[0m\u001b[0m\n\u001b[1;32m      2\u001b[0m \u001b[0mage_months\u001b[0m \u001b[0;34m=\u001b[0m \u001b[0mage_years\u001b[0m \u001b[0;34m*\u001b[0m \u001b[0;36m12\u001b[0m\u001b[0;34m\u001b[0m\u001b[0;34m\u001b[0m\u001b[0m\n\u001b[0;32m----> 3\u001b[0;31m \u001b[0mprint\u001b[0m\u001b[0;34m(\u001b[0m\u001b[0mage_days\u001b[0m\u001b[0;34m)\u001b[0m\u001b[0;34m\u001b[0m\u001b[0;34m\u001b[0m\u001b[0m\n\u001b[0m",
            "\u001b[0;31mNameError\u001b[0m: name 'age_days' is not defined"
          ]
        }
      ]
    },
    {
      "cell_type": "markdown",
      "metadata": {
        "id": "0VhSfX6pmvk8"
      },
      "source": [
        "##### FILL BELOW\n",
        "\n",
        "Error type:\n",
        "\n",
        "File: (Just skip this since we have only this file.)\n",
        "\n",
        "Line:\n",
        "\n",
        "Reason:"
      ]
    },
    {
      "cell_type": "markdown",
      "metadata": {
        "id": "cNs9q-kzmvk9"
      },
      "source": [
        "<a name=\"datype\"></a>\n",
        "## Data types\n",
        "\n",
        "Data are of different types.\n",
        "\n",
        "For example: \n",
        "- Data that contain names would consist of characters \n",
        "- Data that contain ages would consist of numbers. \n",
        "\n",
        "Python's most common data types are:\n",
        "\n",
        "#### For numbers:\n",
        "- [integers](#int) (for storing integers - whole numbers - e.g. 2)\n",
        "\n",
        "\n",
        "- [floats](#float) (for storing numbers with fractions e.g. 1.0025)\n",
        "\n",
        "#### For characters (text):\n",
        "- [strings](#str) \n",
        "\n",
        "#### For logicals (1, 0 - True, False):\n",
        "- [booleans](#bool) (binary data: True or False) \n"
      ]
    },
    {
      "cell_type": "markdown",
      "metadata": {
        "id": "3KTHnvqfmvk9"
      },
      "source": [
        "<a name=\"int\"></a>\n",
        "### Integers\n"
      ]
    },
    {
      "cell_type": "markdown",
      "metadata": {
        "id": "qsI43Ug8UvCk"
      },
      "source": [
        "Below are some examples of integers"
      ]
    },
    {
      "cell_type": "code",
      "metadata": {
        "id": "-7LmZYJTmvk_",
        "colab": {
          "base_uri": "https://localhost:8080/"
        },
        "outputId": "573f6b80-bb43-4b02-91e7-7b9555c3d31b"
      },
      "source": [
        "age = 29\n",
        "birthyear = 1992\n",
        "\n",
        "print(\"I am\", age, \"years old.\")\n",
        "print(\"I was born in\", birthyear)"
      ],
      "execution_count": 44,
      "outputs": [
        {
          "output_type": "stream",
          "text": [
            "I am 29 years old.\n",
            "I was born in 1992\n"
          ],
          "name": "stdout"
        }
      ]
    },
    {
      "cell_type": "markdown",
      "metadata": {
        "id": "JhQl609rmvlE"
      },
      "source": [
        "We can check the type of variables by using ```type()``` function:\n",
        "\n",
        "```type(age)```"
      ]
    },
    {
      "cell_type": "code",
      "metadata": {
        "id": "AUGoRN2emvlF",
        "colab": {
          "base_uri": "https://localhost:8080/"
        },
        "outputId": "79f8f6f7-63c0-4ff8-ed04-1baa3456b0d1"
      },
      "source": [
        "print(type(age))"
      ],
      "execution_count": 36,
      "outputs": [
        {
          "output_type": "stream",
          "text": [
            "<class 'int'>\n"
          ],
          "name": "stdout"
        }
      ]
    },
    {
      "cell_type": "markdown",
      "metadata": {
        "id": "e8owah9mVQOS"
      },
      "source": [
        "It will print out: <class 'int'> meaning that the type (you call data types \"class\") is integer"
      ]
    },
    {
      "cell_type": "code",
      "metadata": {
        "id": "fk7yiHfnmvlJ"
      },
      "source": [
        "x = 3\n",
        "y = 4\n",
        "z = x*y"
      ],
      "execution_count": 45,
      "outputs": []
    },
    {
      "cell_type": "markdown",
      "metadata": {
        "id": "kV0vFYn9mvle"
      },
      "source": [
        "#### Practice : <a name=\"errorex\"></a>\n",
        "1. Generate two integer type variables of your choice\n",
        "2. Do a calculation that yields a fractional value (e.g. 5/2 = 2.5)\n",
        "3. What is the type of our result variable (z, in this case)\n"
      ]
    },
    {
      "cell_type": "code",
      "metadata": {
        "id": "cuI0fOiEmvlg",
        "colab": {
          "base_uri": "https://localhost:8080/",
          "height": 134
        },
        "outputId": "7cb37607-8f82-498b-82a0-20c5ee4396a6"
      },
      "source": [
        "# Below goes your code\n",
        "x = \n",
        "y = \n",
        "z = \n",
        "# Your code ends\n",
        "\n",
        "print(\"x is\",x, \"y is\",y, \"z is\",z)\n",
        "print(\"x is\",type(x), \"y is\",type(y), \"z is\",type(z))"
      ],
      "execution_count": 46,
      "outputs": [
        {
          "output_type": "error",
          "ename": "SyntaxError",
          "evalue": "ignored",
          "traceback": [
            "\u001b[0;36m  File \u001b[0;32m\"<ipython-input-46-f046916cd348>\"\u001b[0;36m, line \u001b[0;32m2\u001b[0m\n\u001b[0;31m    x =\u001b[0m\n\u001b[0m        ^\u001b[0m\n\u001b[0;31mSyntaxError\u001b[0m\u001b[0;31m:\u001b[0m invalid syntax\n"
          ]
        }
      ]
    },
    {
      "cell_type": "markdown",
      "metadata": {
        "id": "QrTbeVq-mvll"
      },
      "source": [
        "<a name=\"float\"></a>\n",
        "### Floats\n",
        "**Floating point number** (Float) is a way of representing a non-integer real number with a computer.\n"
      ]
    },
    {
      "cell_type": "code",
      "metadata": {
        "id": "dMWK7nTimvll",
        "outputId": "d623c409-8fff-40de-c891-6fb33b1957fe"
      },
      "source": [
        "# Calculating Body Mass Index (BMI)\n",
        "my_weight = 75.4\n",
        "my_height = 183.5 # Height in cm\n",
        "my_height_meters = my_height / 100 # Calculate height in meters\n",
        "\n",
        "my_BMI = (my_weight/((my_height_meters)**2)) \n",
        "\n",
        "print(\"BMI is: {bmi}\".format(bmi=my_BMI))\n",
        "print(type(my_BMI))"
      ],
      "execution_count": null,
      "outputs": [
        {
          "output_type": "stream",
          "text": [
            "BMI is: 22.392326025139397\n",
            "<class 'float'>\n"
          ],
          "name": "stdout"
        }
      ]
    },
    {
      "cell_type": "markdown",
      "metadata": {
        "id": "CpmMXtvdmvlp"
      },
      "source": [
        "<a name=\"str\"></a>\n",
        "### Strings\n",
        "\n",
        "What if we want to store characters instead of numbers? Usually we want to store a set of characters instead of storing each character 1 by 1 (like instead of storing - n, a, m, e - we want to store them together as -name-). This is called a string of characters. That's why the type is also called **string**."
      ]
    },
    {
      "cell_type": "code",
      "metadata": {
        "id": "lJK9sAoTmvlq"
      },
      "source": [
        "# Some string examples\n",
        "my_name = \"Burak\"\n",
        "my_country = \"Turkey\""
      ],
      "execution_count": null,
      "outputs": []
    },
    {
      "cell_type": "code",
      "metadata": {
        "id": "d8Kfy4Bomvlv"
      },
      "source": [
        "# Check the type of the variable \"my_name\" below\n",
        "\n",
        "# Your code below\n",
        "\n",
        "# Your code ends"
      ],
      "execution_count": null,
      "outputs": []
    },
    {
      "cell_type": "markdown",
      "metadata": {
        "id": "yJX3i2Gimvly"
      },
      "source": [
        "- We should use **double quoutes ```\" __ \"``` or single quotes ```' __ '```** when limiting a string.\n",
        "- We can use the escape ```\\\\``` character to continue our string in the next line.\n",
        "- Or, we can use **triple quoutes ```''' __ '''```** if we would like to use multiline strings"
      ]
    },
    {
      "cell_type": "code",
      "metadata": {
        "id": "6vAzif70mvlz",
        "outputId": "1dbd25ba-d930-4409-c3b1-c9d827d0d469"
      },
      "source": [
        "# Defining a single line string\n",
        "singleLineString = 'ABC' # or \"ABC\" also works fine\n",
        "\n",
        "# Defining a multi line string\n",
        "multiline_string_1 = 'Our text is getting too long \\\n",
        "so I can continue on the next line of code' \n",
        "\n",
        "print(singleLineString)\n",
        "print(multiline_string_1)"
      ],
      "execution_count": null,
      "outputs": [
        {
          "output_type": "stream",
          "text": [
            "ABC\n",
            "Our text is getting too long so I can continue on the next line of code\n"
          ],
          "name": "stdout"
        }
      ]
    },
    {
      "cell_type": "code",
      "metadata": {
        "id": "Dr9G_Tcumvl3",
        "outputId": "4e02b667-0ca8-4ec1-a42d-4e5ee57f7f68"
      },
      "source": [
        "# A multiline string\n",
        "multiline_string_2 = '''This\n",
        "is \n",
        "a\n",
        "multiline\n",
        "string\n",
        "'''\n",
        "print(multiline_string_2)"
      ],
      "execution_count": null,
      "outputs": [
        {
          "output_type": "stream",
          "text": [
            "This\n",
            "is \n",
            "a\n",
            "multiline\n",
            "string\n",
            "\n"
          ],
          "name": "stdout"
        }
      ]
    },
    {
      "cell_type": "markdown",
      "metadata": {
        "id": "kMY4A4FRmvl6"
      },
      "source": [
        "#### Adding blank space (a.k.a. whitespace)\n",
        "- Use ```\\n``` to add a new line (like pressing enter)\n",
        "- Use ```\\t``` for adding a tab\n",
        "\n"
      ]
    },
    {
      "cell_type": "code",
      "metadata": {
        "id": "YWYYVqcfmvl6",
        "outputId": "6f0b06bc-fa9e-4548-f510-54f92ddd5573"
      },
      "source": [
        "# New line example\n",
        "two_line_string = 'Hello \\n world'\n",
        "print(two_line_string)\n"
      ],
      "execution_count": null,
      "outputs": [
        {
          "output_type": "stream",
          "text": [
            "Hello \n",
            " world\n"
          ],
          "name": "stdout"
        }
      ]
    },
    {
      "cell_type": "code",
      "metadata": {
        "id": "Op0dMF34mvl9",
        "outputId": "767d27d9-016c-4ec6-d6b0-448749234f53"
      },
      "source": [
        "# Tab example\n",
        "two_line_string = '\\tHello  world'\n",
        "print(two_line_string)"
      ],
      "execution_count": null,
      "outputs": [
        {
          "output_type": "stream",
          "text": [
            "\tHello  world\n"
          ],
          "name": "stdout"
        }
      ]
    },
    {
      "cell_type": "markdown",
      "metadata": {
        "id": "DxVKoiObmvmC"
      },
      "source": [
        "#### Concatenating (combining) \n",
        "Sometimes we want to combine strings. There are many ways of doing it. \n",
        "\n",
        "A fast and easy-to-read way is using the plus **```+```** operator."
      ]
    },
    {
      "cell_type": "code",
      "metadata": {
        "id": "M6JPETLYmvmC",
        "outputId": "0bfe93e4-5c59-43f0-9980-118f0ea2cc9b"
      },
      "source": [
        "my_name = \"Burak\"\n",
        "my_surname = \"Gur\"\n",
        "\n",
        "\n",
        "my_fullname = my_name + my_surname # Just joining them together\n",
        "my_fullname_nice = my_name + ' ' + my_surname # Joining with a space\n",
        "\n",
        "\n",
        "print(my_fullname)\n",
        "print(my_fullname_nice)"
      ],
      "execution_count": null,
      "outputs": [
        {
          "output_type": "stream",
          "text": [
            "BurakGur\n",
            "Burak Gur\n"
          ],
          "name": "stdout"
        }
      ]
    },
    {
      "cell_type": "markdown",
      "metadata": {
        "id": "7-YTtGQlmvmG"
      },
      "source": [
        "#### Practice: Printing age as text\n",
        "hint: [Use the error practice](#errorex)  we did before to really understand why the error is produced. Then solve it using the concept of [type conversions](#type_conv)."
      ]
    },
    {
      "cell_type": "code",
      "metadata": {
        "id": "anTo7yX6mvmH",
        "outputId": "3558b56a-b00f-42e6-9153-e56e093cb346"
      },
      "source": [
        "my_name = \"Burak\"\n",
        "my_surname = \"Gur\"\n",
        "my_age = 28\n",
        "\n",
        "\n",
        "my_info = my_name + ' ' + my_surname + ' age: ' + my_age \n",
        "\n",
        "\n",
        "print(my_info)"
      ],
      "execution_count": null,
      "outputs": [
        {
          "output_type": "error",
          "ename": "TypeError",
          "evalue": "can only concatenate str (not \"int\") to str",
          "traceback": [
            "\u001b[0;31m-------------------------------------------------------------------\u001b[0m",
            "\u001b[0;31mTypeError\u001b[0m                         Traceback (most recent call last)",
            "\u001b[0;32m<ipython-input-27-0993d85a4ba0>\u001b[0m in \u001b[0;36m<module>\u001b[0;34m\u001b[0m\n\u001b[1;32m      4\u001b[0m \u001b[0;34m\u001b[0m\u001b[0m\n\u001b[1;32m      5\u001b[0m \u001b[0;34m\u001b[0m\u001b[0m\n\u001b[0;32m----> 6\u001b[0;31m \u001b[0mmy_info\u001b[0m \u001b[0;34m=\u001b[0m \u001b[0mmy_name\u001b[0m \u001b[0;34m+\u001b[0m \u001b[0;34m' '\u001b[0m \u001b[0;34m+\u001b[0m \u001b[0mmy_surname\u001b[0m \u001b[0;34m+\u001b[0m \u001b[0;34m' age: '\u001b[0m \u001b[0;34m+\u001b[0m \u001b[0mmy_age\u001b[0m\u001b[0;34m\u001b[0m\u001b[0;34m\u001b[0m\u001b[0m\n\u001b[0m\u001b[1;32m      7\u001b[0m \u001b[0;34m\u001b[0m\u001b[0m\n\u001b[1;32m      8\u001b[0m \u001b[0;34m\u001b[0m\u001b[0m\n",
            "\u001b[0;31mTypeError\u001b[0m: can only concatenate str (not \"int\") to str"
          ]
        }
      ]
    },
    {
      "cell_type": "code",
      "metadata": {
        "id": "ue7xAjrBmvmK",
        "outputId": "c9e654ca-f220-4340-e3e9-16c70265d5ed"
      },
      "source": [
        "# Your code goes below\n",
        "my_name = \"Burak\"\n",
        "my_surname = \"Gur\"\n",
        "my_age = 28\n",
        "\n",
        "\n",
        "my_info = my_name + ' ' + my_surname + ' age: ' + str(my_age) \n",
        "\n",
        "\n",
        "print(my_info)\n",
        "# Your code ends here"
      ],
      "execution_count": null,
      "outputs": [
        {
          "output_type": "stream",
          "text": [
            "Burak Gur age: 28\n"
          ],
          "name": "stdout"
        }
      ]
    },
    {
      "cell_type": "markdown",
      "metadata": {
        "id": "jmP4JLNBmvmN"
      },
      "source": [
        "**The output should be:**\n",
        "\n",
        "Burak Gur age: 28"
      ]
    },
    {
      "cell_type": "markdown",
      "metadata": {
        "id": "FWbDIxwXmvmO"
      },
      "source": [
        "#### String formatting\n",
        "An easier way of concatenating is with the ```format()``` function.\n"
      ]
    },
    {
      "cell_type": "code",
      "metadata": {
        "id": "vrY2cND5mvmP",
        "outputId": "f3c0eec5-2ca7-45b7-a73b-5ed1971b6675"
      },
      "source": [
        "my_name = \"Burak\"\n",
        "my_surname = \"Gur\"\n",
        "my_age = 28\n",
        "\n",
        "\n",
        "my_info = \"Name is: {name}, surname is: {surname}, age is: {age}\".format(name=my_name,\n",
        "                                                                        surname=my_surname,\n",
        "                                                                        age=my_age)\n",
        "print(my_info)"
      ],
      "execution_count": null,
      "outputs": [
        {
          "output_type": "stream",
          "text": [
            "Name is: Burak, surname is: Gur, age is: 28\n"
          ],
          "name": "stdout"
        }
      ]
    },
    {
      "cell_type": "markdown",
      "metadata": {
        "id": "0YwpSRbXqhs1"
      },
      "source": [
        "<a name=\"bool\"></a>\n",
        "### Booleans\n",
        "\n",
        "Booleans are data that can vary between only two values (binary) e.g. **0-1** or **True-False**"
      ]
    },
    {
      "cell_type": "code",
      "metadata": {
        "id": "yfST9cXyqlIc"
      },
      "source": [
        "# Example of boolean\n",
        "name = \"Burak\"\n",
        "surname = \"Gur\"\n",
        "age = 28\n",
        "is_student = True\n",
        "is_female = False"
      ],
      "execution_count": null,
      "outputs": []
    },
    {
      "cell_type": "markdown",
      "metadata": {
        "id": "V734qOpGmvmo"
      },
      "source": [
        "<a name=\"type_conv\"></a>\n",
        "### Converting types\n",
        "Sometimes we want to convert the types of variables in order to work with other variables of other types.\n",
        "\n",
        "For example if I want to print an **integer** type variable then I should first **convert** it into a **string** type so the **print()** function can understand the data."
      ]
    },
    {
      "cell_type": "code",
      "metadata": {
        "id": "IRDJfGA2mvmo",
        "outputId": "8ba2f743-a4ad-45e5-ff22-d16a8ed76233"
      },
      "source": [
        "# Type conversion is done by using type names as functions \n",
        "my_age = 28\n",
        "\n",
        "print(\"First 'my_age' was: \" + str(type(my_age)))\n",
        "\n",
        "\n",
        "# Convert the type using the target type name as a function: str(), int()\n",
        "my_age_text = str(my_age)\n",
        "\n",
        "print(\"Then 'my_age_text' became: \" + str(type(my_age_text)))\n",
        "\n",
        "# Then we can print it without errors\n",
        "print(\"My age is: \" + my_age_text)\n"
      ],
      "execution_count": null,
      "outputs": [
        {
          "output_type": "stream",
          "text": [
            "First 'my_age' was: <class 'int'>\n",
            "Then 'my_age_text' became: <class 'str'>\n",
            "My age is: 28\n"
          ],
          "name": "stdout"
        }
      ]
    }
  ]
}