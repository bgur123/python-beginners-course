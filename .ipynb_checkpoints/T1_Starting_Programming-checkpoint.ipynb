{
 "cells": [
  {
   "cell_type": "markdown",
   "metadata": {
    "colab_type": "text",
    "id": "view-in-github"
   },
   "source": [
    "<a href=\"https://colab.research.google.com/github/bgur123/python-beginners-course/blob/master/T1_Starting_Programming.ipynb\" target=\"_parent\"><img src=\"https://colab.research.google.com/assets/colab-badge.svg\" alt=\"Open In Colab\"/></a>"
   ]
  },
  {
   "cell_type": "markdown",
   "metadata": {
    "colab_type": "text",
    "id": "qIG_vlxcIiDg"
   },
   "source": [
    "# Let's start programming\n",
    "\n",
    "In this section we will start learning about the our Jupyter IDE and basics of programming with Python.\n",
    "\n",
    "## Contents\n",
    "\n",
    "### [0. Working with the Jupyter notebook](#Jupyter)\n",
    "\n",
    "### [1. Basics of Python ](#Basics)\n"
   ]
  },
  {
   "cell_type": "markdown",
   "metadata": {
    "colab_type": "text",
    "id": "GFt5cwzkIiGS"
   },
   "source": [
    "<a name=\"Basics\"></a>\n",
    "## 1. Basics of Python\n",
    "\n",
    "### Overview:\n",
    "#### - [Python as a calculator](#calculator)\n",
    "#### - [Variables](#var)\n",
    "#### - [Errors](#err)\n",
    "#### - [Data types](#datype)\n",
    "- For single data points\n",
    "    - [integers](#int)\n",
    "    - [floats](#float)\n",
    "    - [strings](#str) \n",
    "    - [booleans](#bool)\n",
    "- For multiple data points\n",
    "    - [lists](#list)\n",
    "    - [tuples](#tup)\n",
    "    - [dictionaries](#dict)\n",
    "    \n",
    "#### - [Type conversions](#type_conv)\n"
   ]
  },
  {
   "cell_type": "markdown",
   "metadata": {
    "colab_type": "text",
    "id": "tLXmbT0EIidf"
   },
   "source": []
  }
 ],
 "metadata": {
  "colab": {
   "authorship_tag": "ABX9TyMMQ5NZ/6ms9k+7LHadC7sf",
   "include_colab_link": true,
   "name": "T1-Starting Programming.ipynb",
   "provenance": []
  },
  "kernelspec": {
   "display_name": "Python 3",
   "language": "python",
   "name": "python3"
  },
  "language_info": {
   "codemirror_mode": {
    "name": "ipython",
    "version": 3
   },
   "file_extension": ".py",
   "mimetype": "text/x-python",
   "name": "python",
   "nbconvert_exporter": "python",
   "pygments_lexer": "ipython3",
   "version": "3.7.3"
  }
 },
 "nbformat": 4,
 "nbformat_minor": 1
}
